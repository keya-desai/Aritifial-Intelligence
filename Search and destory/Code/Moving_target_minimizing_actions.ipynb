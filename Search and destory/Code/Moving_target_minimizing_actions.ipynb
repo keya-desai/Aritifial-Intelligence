{
  "nbformat": 4,
  "nbformat_minor": 0,
  "metadata": {
    "colab": {
      "name": "MovingTarget_Part4.ipynb",
      "provenance": []
    },
    "kernelspec": {
      "name": "python3",
      "display_name": "Python 3"
    }
  },
  "cells": [
    {
      "cell_type": "code",
      "metadata": {
        "id": "_od6s7osAmCA",
        "colab_type": "code",
        "colab": {}
      },
      "source": [
        ""
      ],
      "execution_count": 0,
      "outputs": []
    },
    {
      "cell_type": "code",
      "metadata": {
        "id": "9sapssOd8HX_",
        "colab_type": "code",
        "colab": {}
      },
      "source": [
        "# Import libraries\n",
        "import numpy as np\n",
        "import random\n",
        "import matplotlib.pyplot as plt\n",
        "import seaborn as sns\n",
        "import math\n",
        "import time\n",
        "import pprint as pp\n",
        "import pandas as pd\n",
        "from operator import itemgetter\n",
        "from matplotlib.colors import ListedColormap\n",
        "from matplotlib.patches import Rectangle\n",
        "import pdb"
      ],
      "execution_count": 0,
      "outputs": []
    },
    {
      "cell_type": "markdown",
      "metadata": {
        "id": "HiN2yZZw6ZFG",
        "colab_type": "text"
      },
      "source": [
        "## Environment"
      ]
    },
    {
      "cell_type": "code",
      "metadata": {
        "id": "rKMqYD3t6Lco",
        "colab_type": "code",
        "colab": {}
      },
      "source": [
        "def place_target(env_terrains):\n",
        "  a = env_terrains.shape[0] - 1\n",
        "\n",
        "  i = random.randint(0,a)\n",
        "  j = random.randint(0,a)\n",
        "\n",
        "  return((i, j))"
      ],
      "execution_count": 0,
      "outputs": []
    },
    {
      "cell_type": "code",
      "metadata": {
        "id": "BG3zUW346YBI",
        "colab_type": "code",
        "colab": {}
      },
      "source": [
        "def generate_environment(a):\n",
        "\n",
        "  env_terrains = np.zeros((a,a))\n",
        "\n",
        "  for i in range(a):\n",
        "    for j in range(a):\n",
        "      terrain = random.random()\n",
        "      \n",
        "      if terrain < 0.2:\n",
        "        env_terrains[i, j] = 5 # Flat terrain with p = 0.2\n",
        "      elif terrain < 0.5:\n",
        "        env_terrains[i, j] = 10 # Hilly terrain with p = 0.3\n",
        "      elif terrain < 0.8:\n",
        "        env_terrains[i, j] = 15 # Forested terrain with p = 0.3\n",
        "      else:\n",
        "        env_terrains[i, j] = 20 # Maze of caves with p = 0.2\n",
        "  \n",
        "  target_location = place_target(env_terrains)\n",
        "  environment = (env_terrains, target_location)\n",
        "  return environment"
      ],
      "execution_count": 0,
      "outputs": []
    },
    {
      "cell_type": "code",
      "metadata": {
        "id": "3gBe10E46fYP",
        "colab_type": "code",
        "colab": {}
      },
      "source": [
        "def display_grid(environment):\n",
        "  env_grid = environment[0]\n",
        "  target_location = environment[1]\n",
        "\n",
        "  plt.figure(figsize = (8, 8))\n",
        "  color_list = ['lightgreen', 'darkgreen']\n",
        "  palette = sns.color_palette(color_list)\n",
        "  ax = sns.heatmap(env_grid, annot = True,  linewidths = 0.01, linecolor = 'darkgray', cbar = False, xticklabels = True, yticklabels = True)\n",
        "  ax.add_patch(Rectangle((target_location[1], target_location[0]), 1, 1, fill= False, capstyle = 'projecting', edgecolor='gold', linewidth = 4))\n",
        "  plt.text(target_location[1] + 0.5, target_location[0] + 0.5, 'x', horizontalalignment = 'center', verticalalignment = 'center', fontsize = 30, color = 'gold')\n",
        "  b, t = plt.ylim() # discover the values for bottom and top\n",
        "  b += 0.5 # Add 0.5 to the bottom\n",
        "  t -= 0.5 # Subtract 0.5 from the top\n",
        "  plt.ylim(b, t) # update the ylim(bottom, top) values\n",
        "  plt.show()"
      ],
      "execution_count": 0,
      "outputs": []
    },
    {
      "cell_type": "code",
      "metadata": {
        "id": "B9UUpCnB6hcG",
        "colab_type": "code",
        "colab": {}
      },
      "source": [
        "def search_cell(environment, cell):\n",
        "\n",
        "  env_grid = environment[0]\n",
        "  target_location = environment[1]\n",
        "\n",
        "  if cell != target_location:\n",
        "    return False\n",
        "\n",
        "  else:\n",
        "    if env_grid[cell] == 5:\n",
        "      if random.random() < 0.9:\n",
        "        return True\n",
        "    elif env_grid[cell] == 10:\n",
        "      if random.random() < 0.7:\n",
        "        return True\n",
        "    elif env_grid[cell] == 15:\n",
        "      if random.random() < 0.3:\n",
        "        return True\n",
        "    elif env_grid[cell] == 20:\n",
        "      if random.random() < 0.1:\n",
        "        return True\n",
        "    return False"
      ],
      "execution_count": 0,
      "outputs": []
    },
    {
      "cell_type": "markdown",
      "metadata": {
        "id": "PtBrX6X96tqx",
        "colab_type": "text"
      },
      "source": [
        "#####Moving Target implementation in environment"
      ]
    },
    {
      "cell_type": "code",
      "metadata": {
        "id": "mcq6JSGG6hhR",
        "colab_type": "code",
        "colab": {}
      },
      "source": [
        "def check_child_validity(a, cell):\n",
        "    # If dimensions are in the range of the matrix dimensions (if cell is going out of bounds)\n",
        "    if cell[0] == -1 or cell[1] == -1 or cell[0] == a or cell[1] == a:\n",
        "        return False\n",
        "    # Valid\n",
        "    else:\n",
        "        return True"
      ],
      "execution_count": 0,
      "outputs": []
    },
    {
      "cell_type": "code",
      "metadata": {
        "id": "vgljoM8t6hk8",
        "colab_type": "code",
        "colab": {}
      },
      "source": [
        "def move_target(a, cell):\n",
        "  \n",
        "  i = cell[0]\n",
        "  j = cell[1]\n",
        "  neighbors = [(i - 1, j), (i , j - 1), (i , j + 1), (i + 1, j )]\n",
        "  valid_neighbor = []\n",
        "\n",
        "  for neighbor in neighbors:\n",
        "    if(check_child_validity(a,neighbor)):\n",
        "      valid_neighbor.append(neighbor)\n",
        "  \n",
        "  n = len(valid_neighbor)\n",
        "  return valid_neighbor[random.randint(0,n-1)]\n"
      ],
      "execution_count": 0,
      "outputs": []
    },
    {
      "cell_type": "code",
      "metadata": {
        "id": "z6lgcSu86hr6",
        "colab_type": "code",
        "colab": {}
      },
      "source": [
        "def tracker(environment):\n",
        "\n",
        "#changing the target location and reflecting it in the environment\n",
        "  a = environment[0].shape[0]\n",
        "  curret_target_location = environment[1]\n",
        "  new_target_location = move_target( a, curret_target_location )\n",
        "  #print(new_target_location)\n",
        "  environment = (environment[0], new_target_location)  \n",
        "  \n",
        "#report terrain type where target is not loacted. \n",
        "  terrain_of_target = terrain_type(environment, new_target_location)\n",
        "  not_target = list(set([0,1,2,3]) - set([terrain_of_target]))\n",
        "  t = random.randint(0,2)\n",
        "  report_terrain = not_target[t]\n",
        "\n",
        "  return environment, report_terrain"
      ],
      "execution_count": 0,
      "outputs": []
    },
    {
      "cell_type": "markdown",
      "metadata": {
        "id": "CxLO7s_R6n-L",
        "colab_type": "text"
      },
      "source": [
        "## Agent"
      ]
    },
    {
      "cell_type": "code",
      "metadata": {
        "id": "z5y6rrUB6o5s",
        "colab_type": "code",
        "colab": {}
      },
      "source": [
        "def rule_1(belief_map):\n",
        "  cell_index = np.unravel_index(np.argmax(belief_map, axis=None), belief_map.shape)\n",
        "  return cell_index\n",
        "\n"
      ],
      "execution_count": 0,
      "outputs": []
    },
    {
      "cell_type": "code",
      "metadata": {
        "id": "gbZAU67f67Y4",
        "colab_type": "code",
        "colab": {}
      },
      "source": [
        "def rule_2(environment, belief_map, false_negative_rate):\n",
        "  \n",
        "  false_negative_matrix = environment[0]/5\n",
        "  for x in range(1,5):\n",
        "   false_negative_matrix[false_negative_matrix == x] = (1 - false_negative_rate[x-1])\n",
        "\n",
        "  new_probability = np.multiply(false_negative_matrix, belief_map)\n",
        "  cell_index = np.unravel_index(np.random.choice(np.flatnonzero(new_probability == new_probability.max())), belief_map.shape)\n",
        "  return cell_index"
      ],
      "execution_count": 0,
      "outputs": []
    },
    {
      "cell_type": "code",
      "metadata": {
        "id": "OJKbqQI1DEIs",
        "colab_type": "code",
        "colab": {}
      },
      "source": [
        "def update_belief(environment, prior_belief_map, cell_opened, false_negative_rate):\n",
        "    \n",
        "    dim = environment[0].shape[0]\n",
        "    terrain = np.int(environment[0][cell_opened]/5)-1\n",
        "    false_negative_cell_opened = false_negative_rate[terrain]\n",
        "    \n",
        "    denominator = (prior_belief_map[cell_opened] * (1 - false_negative_cell_opened)) + (1 - prior_belief_map[cell_opened])\n",
        "\n",
        "    update_belief_map = prior_belief_map/denominator\n",
        "    update_belief_map[cell_opened] = update_belief_map[cell_opened] * (1 - false_negative_cell_opened)\n",
        "\n",
        "    return update_belief_map"
      ],
      "execution_count": 0,
      "outputs": []
    },
    {
      "cell_type": "code",
      "metadata": {
        "id": "EYf8D0ej67g1",
        "colab_type": "code",
        "colab": {}
      },
      "source": [
        "def terrain_type(environment, cell):\n",
        "  return np.int(environment[0][cell]/5)-1"
      ],
      "execution_count": 0,
      "outputs": []
    },
    {
      "cell_type": "code",
      "metadata": {
        "id": "I_PoOJXs67mW",
        "colab_type": "code",
        "colab": {}
      },
      "source": [
        "def neighbor_information(a):\n",
        "\n",
        "  ## count of neighbours of each cell\n",
        "\n",
        "  count_neighbor_mat = np.full((a,a),4)\n",
        "\n",
        "  for j in range(1,a-1):\n",
        "    count_neighbor_mat[0, j] = 3\n",
        "    count_neighbor_mat[a-1, j] = 3\n",
        "    count_neighbor_mat[j, 0] = 3\n",
        "    count_neighbor_mat[j, a-1] = 3\n",
        "\n",
        "  count_neighbor_mat[0][0] = 2\n",
        "  count_neighbor_mat[0][a-1] = 2\n",
        "  count_neighbor_mat[a-1][0] = 2\n",
        "  count_neighbor_mat[a-1][a-1] = 2\n",
        "\n",
        "\n",
        "  ## list of valid neighbours for each cell \n",
        "\n",
        "  valid_neighbor = [[[] for i in range(a)] for j in range(a)]\n",
        "\n",
        "  for i in range(a):\n",
        "    for j in range(a):\n",
        "      neighbors = [(i - 1, j), (i , j - 1), (i , j + 1), (i + 1, j )]\n",
        "      for neighbor in neighbors:\n",
        "        if(check_child_validity(a,neighbor)):\n",
        "          valid_neighbor[i][j].append(neighbor)\n",
        "\n",
        "  return (count_neighbor_mat, valid_neighbor)"
      ],
      "execution_count": 0,
      "outputs": []
    },
    {
      "cell_type": "code",
      "metadata": {
        "id": "yZROdPuz67p1",
        "colab_type": "code",
        "colab": {}
      },
      "source": [
        "def belief_updade_given_failure(prior_belief_map, neighbor_info_map):\n",
        " ##################################################################################################################################################################\n",
        "  # P( target in cell i at t+1 | observation at t)                                                                                                                 #\n",
        "  #           = (summation over all j = neighbours of i) [ P(target in cell j at t | observations at t) * P (target in cell i at t+1 | target in cell j at t+1)  ] #\n",
        "  #           = (summation over all j = neighbours of i) [ P(target in cell j at t | observations at t) * (1/ No. of Negibours of j) ]                             #\n",
        "  ##################################################################################################################################################################\n",
        "\n",
        "  a = prior_belief_map.shape[0]\n",
        "  neigbor_count = neighbor_info_map[0]\n",
        "  valid_neighbor = neighbor_info_map[1]\n",
        "\n",
        "  updated_belief_map = np.empty((a,a))\n",
        "\n",
        "  for i in range(a):\n",
        "    for j in range(a):\n",
        "      \n",
        "      prob_sum = 0\n",
        "      n_neighbors = neigbor_count[(i,j)]\n",
        "      for n in range(np.int(n_neighbors)):\n",
        "        neighbor = valid_neighbor[i][j][n]\n",
        "        prob_sum = prob_sum + prior_belief_map[neighbor]\n",
        "\n",
        "      updated_belief_map[(i,j)] = prob_sum /  n_neighbors\n",
        "\n",
        "  return updated_belief_map\n"
      ],
      "execution_count": 0,
      "outputs": []
    },
    {
      "cell_type": "code",
      "metadata": {
        "id": "v7nS5y3L67s4",
        "colab_type": "code",
        "colab": {}
      },
      "source": [
        "def terrain_type_total(environment, terrain):\n",
        "\n",
        "  env_grid = (environment[0]/5 - 1).astype(int)\n",
        "  counts = np.bincount(env_grid.flatten())\n",
        "\n",
        "  return sum(counts) - counts[terrain]"
      ],
      "execution_count": 0,
      "outputs": []
    },
    {
      "cell_type": "code",
      "metadata": {
        "id": "DAFELsim67x5",
        "colab_type": "code",
        "colab": {}
      },
      "source": [
        "def belief_update_given_tracker_info(environment, prior_belief_map, target_not_in_terrain):\n",
        "\n",
        "  ##########################################################################################################################################################\n",
        "  # P( target in cell i at t+1 | observation at t, target not in terrain T at t+1)                                                                            #\n",
        "  #     =  P( target in cell i at t+1 | observation at t) * P(target not in terrain T at t+1 | observation at t, target in cell i at t+1  )                   #\n",
        "  #        ---------------------------------------------------------------------------------------------------------------------------------                  #\n",
        "  #                                                P(target not in terrain T at t+1 | observation at t)                                                       #\n",
        "  #                                                                                                                                                           #\n",
        "  #     =   Prior * [ 0  if terrain of target cell i = target_not_in_terrain,   1/3 else ]                                                                    #\n",
        "  #        --------------------------------------------------------------------------------                                                                   #\n",
        "  #               P(target not in terrain T at t+1 | observation at t)\n",
        "  #\n",
        "  #\n",
        "  #\n",
        "  # P(target not in terrain T at t+1 | observation at t) \n",
        "  #           = P(target in cell i at t+1  | observation at t) * P(target not in terrain T at t+1 | observation at t, target in cell i at t+1 )\n",
        "  #              + P(target not in cell i at t+1  | observation at t) * P(target not in terrain T at t+1 | observation at t, target not in cell i at t+1  )\n",
        "  #           =  Prior * [ 0  if terrain of target cell i = target_not_in_terrain,   1/3 else ] \n",
        "  #              + (1 - Prior) * P(target not in terrain T at t+1 | observation at t, target not in cell i at t+1  )\n",
        "  #\n",
        "  #############################################################################################################################################################\n",
        "  a = prior_belief_map.shape[0]\n",
        "  updated_belief_map = np.empty((a,a))\n",
        "  n_not_terrain = terrain_type_total( environment, target_not_in_terrain)\n",
        "\n",
        "  for i in range(a):\n",
        "    for j in range(a):\n",
        "      cell = (i,j)\n",
        "      terrain_cell = terrain_type(environment, cell)\n",
        "      \n",
        "      if(terrain_cell == target_not_in_terrain):\n",
        "        p = 0\n",
        "        x = n_not_terrain / (a*a - 1)\n",
        "      else:\n",
        "        p = 1/3\n",
        "        x = (n_not_terrain - 1) / (a*a - 1)\n",
        "\n",
        "      denominator = (prior_belief_map[cell] * p) + ((1 - prior_belief_map[cell]) * x)\n",
        "      updated_belief_map[cell] = (prior_belief_map[cell] * p)/denominator\n",
        "  \n",
        "  return updated_belief_map"
      ],
      "execution_count": 0,
      "outputs": []
    },
    {
      "cell_type": "markdown",
      "metadata": {
        "id": "D8TjFStsCcLu",
        "colab_type": "text"
      },
      "source": [
        "#####Compute Cost"
      ]
    },
    {
      "cell_type": "code",
      "metadata": {
        "id": "rB5r0FZ4eX5K",
        "colab_type": "code",
        "colab": {}
      },
      "source": [
        "def compute_actions(current_cell, target_cell):\n",
        "  # +1 for searching it\n",
        "  return abs(current_cell[0]- target_cell[0]) + abs(current_cell[1]- target_cell[1]) + 1 "
      ],
      "execution_count": 0,
      "outputs": []
    },
    {
      "cell_type": "code",
      "metadata": {
        "id": "mnca96pv_4HO",
        "colab_type": "code",
        "colab": {}
      },
      "source": [
        "def compute_cost_one_step(environment, belief_map, current_cell, false_negative_rate):\n",
        "  \n",
        "  env_grid = environment[0]\n",
        "  a = env_grid.shape[0]\n",
        "  min_cost_so_far = float('inf')\n",
        "  cell_with_min_cost = (0,0)\n",
        "\n",
        "  for i in range(a):\n",
        "    for j in range(a):\n",
        "      # manhattan_distance\n",
        "      distance = abs(current_cell[0]-i) + abs(current_cell[1]-j)\n",
        "      terrain = np.int(env_grid[(i,j)]/5)-1\n",
        "      false_negative_cell_opened = false_negative_rate[terrain]\n",
        "      if belief_map[i][j] != 0:\n",
        "        # cost = distance + (math.sqrt(1/(belief_map[i][j]*(1-false_negative_cell_opened)))) \n",
        "        cost = distance/(2 * a) + (1 - (belief_map[i][j]*(1 - false_negative_cell_opened))) + 1\n",
        "        # cost = (distance/(belief_map[i][j] * (1 - false_negative_cell_opened))) + 1\n",
        "        if(min_cost_so_far > cost):\n",
        "          min_cost_so_far = cost\n",
        "          cell_with_min_cost = (i,j)\n",
        "\n",
        "  actions =  compute_actions(current_cell, cell_with_min_cost)   \n",
        "\n",
        "  return cell_with_min_cost, actions, min_cost_so_far"
      ],
      "execution_count": 0,
      "outputs": []
    },
    {
      "cell_type": "code",
      "metadata": {
        "id": "QxKFuc63Jf-Z",
        "colab_type": "code",
        "colab": {}
      },
      "source": [
        "def simplified_two_step_cost(environment, belief_map, current_cell, false_negative_rate):\n",
        "\n",
        "  env_grid = environment[0]\n",
        "  a = env_grid.shape[0]\n",
        "\n",
        "  min_cost_so_far = float('inf')\n",
        "  min_first_cell = (0,0)\n",
        "  min_second_cell = (0,0)\n",
        "  \n",
        "  cost_matrix = np.full((a,a), 10000.0)\n",
        "\n",
        "  for i in range(a):\n",
        "    for j in range(a):\n",
        "      if(i!=current_cell[0] or j!=current_cell[1]):\n",
        "        first_cell = (i,j)\n",
        "        distance_from_current_to_first = abs(current_cell[0]-i) + abs(current_cell[1]-j)\n",
        "        terrain = np.int(env_grid[first_cell]/5)-1\n",
        "        false_negative_cell_opened = false_negative_rate[terrain]\n",
        "        ## Cost from current cell to first cell (i,j)\n",
        "        cost_1 = distance_from_current_to_first/ (2 * a) + 1 \n",
        "        p_1 = 1 - (belief_map[first_cell]*(1 - false_negative_cell_opened))\n",
        "        temp_belief_map = np.full((a,a), 0)\n",
        "        temp_belief_map = update_belief(environment, belief_map, first_cell, false_negative_rate)\n",
        "        min_cell, min_actions, min_cost = compute_cost_one_step(environment, temp_belief_map, first_cell, false_negative_rate)\n",
        "        total_expected_cost = cost_1 + p_1*min_cost\n",
        "\n",
        "        if(min_cost_so_far > total_expected_cost):\n",
        "          min_cost_so_far = total_expected_cost\n",
        "\n",
        "        cost_matrix[(i, j)] = round(total_expected_cost,2)\n",
        "\n",
        "  min_first_cell = np.unravel_index(np.random.choice(np.flatnonzero(cost_matrix == cost_matrix.min())), cost_matrix.shape)\n",
        "  # print(\"Min_cost = \", cost_matrix[min_first_cell])\n",
        "  # print(\"First cell = \", min_first_cell )\n",
        "  # print(\"Cost Matrix:\")\n",
        "  # pp.pprint(cost_matrix)\n",
        "  # display_grid((cost_matrix, min_first_cell))\n",
        "  actions = compute_actions(current_cell, min_first_cell)\n",
        "  return min_first_cell, actions, min_cost_so_far"
      ],
      "execution_count": 0,
      "outputs": []
    },
    {
      "cell_type": "code",
      "metadata": {
        "id": "0dsn9rcY4h9d",
        "colab_type": "code",
        "colab": {}
      },
      "source": [
        "def compute_cost_two_steps(environment, belief_map, current_cell, false_negative_rate):\n",
        "\n",
        "  env_grid = environment[0]\n",
        "  a = env_grid.shape[0]\n",
        "\n",
        "  min_cost_so_far = float('inf')\n",
        "  min_first_cell = (0,0)\n",
        "  min_second_cell = (0,0)\n",
        "  \n",
        "  cost_matrix = np.full((a,a), 10000.0)\n",
        "  second_cells = [[(-1, -1) for i in range(a)] for j in range(a)]\n",
        "\n",
        "  for i in range(a):\n",
        "    for j in range(a):\n",
        "      if(i!=current_cell[0] or j!=current_cell[1]):\n",
        "        first_cell = (i,j)\n",
        "        distance_from_current_to_first = abs(current_cell[0]-i) + abs(current_cell[1]-j)\n",
        "        terrain = np.int(env_grid[first_cell]/5)-1\n",
        "        false_negative_cell_opened = false_negative_rate[terrain]\n",
        "        ## Cost from current cell to first cell (i,j)\n",
        "        cost_1 = distance_from_current_to_first/ (2 * a) + 1 \n",
        "        p_1 = 1 - (belief_map[first_cell]*(1 - false_negative_cell_opened))\n",
        "        \n",
        "        min_cost_so_far = float('inf')\n",
        "        for m in range(a):\n",
        "          for n in range(a):\n",
        "            if(m!=i or n!=j) and (m!=current_cell[0] or n!=current_cell[1]):\n",
        "              temp_belief_map = np.full((a,a), 0)\n",
        "              temp_belief_map = update_belief(environment, belief_map, first_cell, false_negative_rate) \n",
        "              second_cell = (m,n)\n",
        "              distance_from_first_to_second = (abs(i-m) + abs(j-n))\n",
        "              terrain = np.int(env_grid[second_cell]/5)-1\n",
        "              false_negative_cell_opened = false_negative_rate[terrain]\n",
        "              ## Expected cost from second cell to any other future step\n",
        "              temp_belief_map_2 = update_belief(environment, temp_belief_map, second_cell, false_negative_rate)\n",
        "              # min_cell, min_actions, min_cost = compute_cost_one_step(environment, temp_belief_map_2, second_cell, false_negative_rate)\n",
        "              cost_2 = (distance_from_first_to_second/ (2 * a)) + 1 + (1 - (temp_belief_map[second_cell]*(1 - false_negative_cell_opened))) #*min1_cost\n",
        "\n",
        "              total_expected_cost = cost_1 + p_1*cost_2\n",
        "\n",
        "              if(min_cost_so_far > total_expected_cost):\n",
        "                min_cost_so_far = total_expected_cost\n",
        "                min_second_cell = second_cell\n",
        "\n",
        "        cost_matrix[(i, j)] = round(min_cost_so_far,2)\n",
        "        second_cells[i][j] = min_second_cell\n",
        "\n",
        "  min_first_cell = np.unravel_index(np.random.choice(np.flatnonzero(cost_matrix == cost_matrix.min())), cost_matrix.shape)\n",
        "  # print(\"Min_cost = \", cost_matrix[min_first_cell])\n",
        "  # print(\"First cell = \", min_first_cell )\n",
        "  # print(\"Second cell = \", second_cells[min_first_cell[0]][min_first_cell[1]])\n",
        "  # print(\"Cost Matrix:\")\n",
        "  # pp.pprint(cost_matrix)\n",
        "  # display_grid((cost_matrix, min_first_cell))\n",
        "  actions = compute_actions(current_cell, min_first_cell)\n",
        "  return min_first_cell, actions, min_cost_so_far\n",
        "\n"
      ],
      "execution_count": 0,
      "outputs": []
    },
    {
      "cell_type": "markdown",
      "metadata": {
        "id": "BXS6SHrn7Spb",
        "colab_type": "text"
      },
      "source": [
        "####Main agent"
      ]
    },
    {
      "cell_type": "code",
      "metadata": {
        "id": "oPh2r5dJ7Oeg",
        "colab_type": "code",
        "colab": {}
      },
      "source": [
        "def bonus_agent_rule_1(environment):\n",
        "\n",
        "  env_grid = environment[0]\n",
        "  a = env_grid.shape[0]\n",
        "\n",
        "  initial_belief = 1/(a*a)\n",
        "  belief_map = np.full((a,a), initial_belief)\n",
        "\n",
        "  total_actions = 0\n",
        "\n",
        "  ##number of neighbours map ##\n",
        "  neighbor_info_map = neighbor_information(a)\n",
        "\n",
        "  i = random.randint(0, a-1)\n",
        "  j = random.randint(0, a-1)\n",
        "  current_agent_location = (i,j)\n",
        "\n",
        "\n",
        "  while(True):\n",
        "    \n",
        "    is_target = search_cell(environment, current_agent_location)\n",
        "    \n",
        "\n",
        "    if(is_target):\n",
        "      \n",
        "      return total_actions\n",
        "    #failure\n",
        "    else:\n",
        "      \n",
        "      environment, target_not_in_terrain = tracker(environment)\n",
        "      belief_map = belief_updade_given_failure(belief_map, neighbor_info_map)\n",
        "      belief_map = belief_update_given_tracker_info(environment, belief_map, target_not_in_terrain)\n",
        "\n",
        "      new_agent_location = rule_1(belief_map)\n",
        "      total_actions = total_actions + compute_actions(current_agent_location, new_agent_location)\n",
        "      current_agent_location = new_agent_location\n",
        "\n",
        "  return total_actions"
      ],
      "execution_count": 0,
      "outputs": []
    },
    {
      "cell_type": "code",
      "metadata": {
        "id": "oVsGFjIl67wD",
        "colab_type": "code",
        "colab": {}
      },
      "source": [
        "def bonus_agent_rule_2(environment):\n",
        "\n",
        "  env_grid = environment[0]\n",
        "  a = env_grid.shape[0]\n",
        "\n",
        "  initial_belief = 1/(a*a)\n",
        "  belief_map = np.full((a,a), initial_belief)\n",
        "\n",
        "  total_actions = 0\n",
        "  false_negative_rate = [0.1, 0.3, 0.7, 0.9]\n",
        "  ##number of neighbours map ##\n",
        "  neighbor_info_map = neighbor_information(a)\n",
        "\n",
        "  i = random.randint(0, a-1)\n",
        "  j = random.randint(0, a-1)\n",
        "  current_agent_location = (i,j)\n",
        "\n",
        "\n",
        "  while(True):\n",
        "    \n",
        "    is_target = search_cell(environment, current_agent_location)\n",
        "    \n",
        "\n",
        "    if(is_target):\n",
        "      \n",
        "      return total_actions\n",
        "    #failure\n",
        "    else:\n",
        "      \n",
        "      environment, target_not_in_terrain = tracker(environment)\n",
        "      belief_map = belief_updade_given_failure(belief_map, neighbor_info_map)\n",
        "      belief_map = belief_update_given_tracker_info(environment, belief_map, target_not_in_terrain)\n",
        "\n",
        "      new_agent_location = rule_2(environment, belief_map, false_negative_rate)\n",
        "      total_actions = total_actions + compute_actions(current_agent_location, new_agent_location)\n",
        "      current_agent_location = new_agent_location\n",
        "\n",
        "  return total_actions"
      ],
      "execution_count": 0,
      "outputs": []
    },
    {
      "cell_type": "code",
      "metadata": {
        "id": "SoPODE0gBFxT",
        "colab_type": "code",
        "colab": {}
      },
      "source": [
        "def bonus_agent_cost_1(environment):\n",
        "\n",
        "  env_grid = environment[0]\n",
        "  a = env_grid.shape[0]\n",
        "\n",
        "  initial_belief = 1/(a*a)\n",
        "  belief_map = np.full((a,a), initial_belief)\n",
        "  false_negative_rate = [0.1, 0.3, 0.7, 0.9]\n",
        "\n",
        "  total_actions = 1\n",
        "\n",
        "  ##number of neighbours map ##\n",
        "  neighbor_info_map = neighbor_information(a)\n",
        "\n",
        "  i = random.randint(0, a-1)\n",
        "  j = random.randint(0, a-1)\n",
        "  current_agent_location = (i,j)\n",
        "\n",
        "  trial = 0\n",
        "\n",
        "\n",
        "  while(True):\n",
        "\n",
        "    #if(trial%10 == 0):  print(\"Trial: \", trial)\n",
        "    trial = trial +1\n",
        "    is_target = search_cell(environment, current_agent_location)\n",
        "\n",
        "    if(is_target):\n",
        "      return total_actions\n",
        "    #failure\n",
        "    else:\n",
        "      \n",
        "      environment, target_not_in_terrain = tracker(environment)\n",
        "      belief_map = belief_updade_given_failure(belief_map, neighbor_info_map)\n",
        "      belief_map = belief_update_given_tracker_info(environment, belief_map, target_not_in_terrain)\n",
        "\n",
        "      current_agent_location, actions, min_cost_so_far = compute_cost_one_step(environment, belief_map, current_agent_location, false_negative_rate)\n",
        "      total_actions = total_actions + actions\n",
        "\n",
        "  return total_actions"
      ],
      "execution_count": 0,
      "outputs": []
    },
    {
      "cell_type": "code",
      "metadata": {
        "id": "EXWFDWeFBJgG",
        "colab_type": "code",
        "colab": {}
      },
      "source": [
        "def bonus_agent_cost_2(environment):\n",
        "\n",
        "  env_grid = environment[0]\n",
        "  a = env_grid.shape[0]\n",
        "\n",
        "  initial_belief = 1/(a*a)\n",
        "  belief_map = np.full((a,a), initial_belief)\n",
        "  false_negative_rate = [0.1, 0.3, 0.7, 0.9]\n",
        "\n",
        "  total_actions = 1\n",
        "\n",
        "  ##number of neighbours map ##\n",
        "  neighbor_info_map = neighbor_information(a)\n",
        "\n",
        "  i = random.randint(0, a-1)\n",
        "  j = random.randint(0, a-1)\n",
        "  current_agent_location = (i,j)\n",
        "\n",
        "  trial = 0\n",
        "\n",
        "\n",
        "  while(True):\n",
        "\n",
        "    #if(trial%10 == 0):  print(\"Trial: \", trial)\n",
        "    trial = trial +1\n",
        "    is_target = search_cell(environment, current_agent_location)\n",
        "\n",
        "    if(is_target):\n",
        "      return total_actions\n",
        "    #failure\n",
        "    else:\n",
        "      \n",
        "      environment, target_not_in_terrain = tracker(environment)\n",
        "      belief_map = belief_updade_given_failure(belief_map, neighbor_info_map)\n",
        "      belief_map = belief_update_given_tracker_info(environment, belief_map, target_not_in_terrain)\n",
        "\n",
        "      current_agent_location, actions, min_cost_so_far = simplified_two_step_cost(environment, belief_map, current_agent_location, false_negative_rate)\n",
        "      total_actions = total_actions + actions\n",
        "\n",
        "  return total_actions"
      ],
      "execution_count": 0,
      "outputs": []
    },
    {
      "cell_type": "code",
      "metadata": {
        "id": "xslOh77-7fHN",
        "colab_type": "code",
        "outputId": "f39c8059-2e46-4953-b98f-d9a40e6687a6",
        "colab": {
          "base_uri": "https://localhost:8080/",
          "height": 33
        }
      },
      "source": [
        "## Call to the agent #\n",
        "\n",
        "a = 5\n",
        "environment = generate_environment(a)\n",
        "bonus_agent_rule_1(environment)"
      ],
      "execution_count": 102,
      "outputs": [
        {
          "output_type": "execute_result",
          "data": {
            "text/plain": [
              "11"
            ]
          },
          "metadata": {
            "tags": []
          },
          "execution_count": 102
        }
      ]
    },
    {
      "cell_type": "markdown",
      "metadata": {
        "id": "oa9qjNJZ7hfa",
        "colab_type": "text"
      },
      "source": [
        "## Analysing the performance"
      ]
    },
    {
      "cell_type": "code",
      "metadata": {
        "id": "mYM-SPGB7jo4",
        "colab_type": "code",
        "colab": {}
      },
      "source": [
        "def analysis_rule_1_2(a, n):\n",
        "\n",
        "  sum_searches_rule_1 = 0\n",
        "  sum_searches_rule_2 = 0\n",
        "  for i in range(n):\n",
        "\n",
        "    print(\"Trial: \", i)\n",
        "    environment = generate_environment(a)\n",
        "    sum_searches_rule_1 = sum_searches_rule_1 + bonus_agent_rule_1(environment)\n",
        "    sum_searches_rule_2 = sum_searches_rule_2 + bonus_agent_rule_2(environment)\n",
        "\n",
        "  avg_searches_rule_1 = sum_searches_rule_1/n\n",
        "  avg_searches_rule_2 = sum_searches_rule_2/n\n",
        "  print(avg_searches_rule_1)\n",
        "  print(avg_searches_rule_2)\n",
        "\n",
        "  plt.bar([\"Rule 1\", \"Rule 2\"], [avg_searches_rule_1, avg_searches_rule_2])\n",
        "  plt.ylabel(\"Average no. of searches\")\n",
        "  fig1 = plt.gcf()\n",
        "  plt.show()\n",
        "  fig1.savefig('bonus_rule_1_2.png')"
      ],
      "execution_count": 0,
      "outputs": []
    },
    {
      "cell_type": "code",
      "metadata": {
        "id": "jl8ZwQd3BPXQ",
        "colab_type": "code",
        "colab": {}
      },
      "source": [
        "def analysis_cost_1_2(a, n):\n",
        "\n",
        "  sum_searches_1 = 0\n",
        "  sum_searches_2 = 0\n",
        "\n",
        "  for i in range(n):\n",
        "\n",
        "    environment = generate_environment(a)\n",
        "    sum_searches_1 = sum_searches_1 + bonus_agent_cost_1(environment)\n",
        "    sum_searches_2 = sum_searches_2 + bonus_agent_cost_2(environment)\n",
        "\n",
        "  avg_searches_1 = sum_searches_1/n\n",
        "  avg_searches_2 = sum_searches_2/n\n",
        "\n",
        "  print(avg_searches_1)\n",
        "  print(avg_searches_2)\n",
        "\n",
        "  plt.bar([\"Cost 1\", \"Cost 2\"], [avg_searches_1, avg_searches_2])\n",
        "  plt.ylabel(\"Average no. of searches\")\n",
        "  fig1 = plt.gcf()\n",
        "  plt.show()\n",
        "  fig1.savefig('bonus_cost_1_2.png')"
      ],
      "execution_count": 0,
      "outputs": []
    },
    {
      "cell_type": "code",
      "metadata": {
        "id": "ard7CBWQBPfS",
        "colab_type": "code",
        "colab": {}
      },
      "source": [
        "def analysis_cost_rule(a, n):\n",
        "\n",
        "  sum_searches_1 = 0\n",
        "  sum_searches_2 = 0\n",
        "  sum_searches_rule_1 = 0\n",
        "  sum_searches_rule_2 = 0\n",
        " \n",
        "\n",
        "  for i in range(n):\n",
        "\n",
        "    print(\"trial:\", i)\n",
        "\n",
        "    environment = generate_environment(a)\n",
        "    sum_searches_1 = sum_searches_1 + bonus_agent_cost_1(environment)\n",
        "    sum_searches_2 = sum_searches_2 + bonus_agent_cost_2(environment)\n",
        "    sum_searches_rule_1 = sum_searches_rule_1 + bonus_agent_rule_1(environment)\n",
        "    sum_searches_rule_2 = sum_searches_rule_2 + bonus_agent_rule_2(environment)\n",
        "\n",
        "    avg_searches_1 = sum_searches_1/(i+1)\n",
        "    avg_searches_2 = sum_searches_2/(i+1)\n",
        "    avg_searches_rule_1 = sum_searches_rule_1/(i+1)\n",
        "    avg_searches_rule_2 = sum_searches_rule_2/(i+1)\n",
        "\n",
        "    df = pd.DataFrame(columns = ['Cost 1', 'Cost 2', 'Rule 1', 'Rule 2'] , index = np.arange(0,1,1))\n",
        "    data = [avg_searches_1, avg_searches_2, avg_searches_rule_1, avg_searches_rule_2]\n",
        "    df.loc[-1] = data\n",
        "    df.index = df.index + 1\n",
        "    df = df.sort_index()\n",
        "    df.to_csv('Cost_Rule_Bonus.csv')\n",
        "\n",
        "\n",
        "    pal = sns.color_palette(\"Greens_d\", len(data))\n",
        "\n",
        "    rank = df.loc[0].argsort().argsort()  \n",
        "    sns.barplot([\"Cost 1\", \"Cost 2\", \"Rule 1\", \"Rule 2\"], data,  palette=np.array(pal[::-1])[rank])\n",
        "    plt.ylabel(\"Average no. of actions\")\n",
        "    fig1 = plt.gcf()\n",
        "    #plt.show()\n",
        "    fig1.savefig('Cost_Rule_Bonus.png')"
      ],
      "execution_count": 0,
      "outputs": []
    },
    {
      "cell_type": "code",
      "metadata": {
        "id": "zz5eRPwQBPnP",
        "colab_type": "code",
        "colab": {
          "base_uri": "https://localhost:8080/",
          "height": 297
        },
        "outputId": "524622be-9838-4348-dc7b-a423ca5ae915"
      },
      "source": [
        "a = 5\n",
        "n = 2\n",
        "environment = generate_environment(a)\n",
        "analysis_cost_rule(a, n)"
      ],
      "execution_count": 106,
      "outputs": [
        {
          "output_type": "stream",
          "text": [
            "trial: 0\n",
            "trial: 1\n"
          ],
          "name": "stdout"
        },
        {
          "output_type": "display_data",
          "data": {
            "image/png": "[encoded data removed]",
            "text/plain": [
              "<Figure size 432x288 with 1 Axes>"
            ]
          },
          "metadata": {
            "tags": []
          }
        }
      ]
    }
  ]
}