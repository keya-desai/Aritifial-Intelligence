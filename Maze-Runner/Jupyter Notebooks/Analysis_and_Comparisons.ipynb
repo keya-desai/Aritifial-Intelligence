{
  "nbformat": 4,
  "nbformat_minor": 0,
  "metadata": {
    "colab": {
      "name": "MazeRunner_Part2.ipynb",
      "provenance": [],
      "collapsed_sections": []
    },
    "kernelspec": {
      "name": "python3",
      "display_name": "Python 3"
    }
  },
  "cells": [
    {
      "cell_type": "markdown",
      "metadata": {
        "id": "wzl7tISa0lno",
        "colab_type": "text"
      },
      "source": [
        "### Code to generate the maze"
      ]
    },
    {
      "cell_type": "code",
      "metadata": {
        "id": "s0-0GA7XgBq5",
        "colab_type": "code",
        "colab": {}
      },
      "source": [
        "# Import libraries\n",
        "\n",
        "import numpy as np\n",
        "import random as rand\n",
        "import matplotlib.pyplot as plt\n",
        "import seaborn as sns\n",
        "import math\n",
        "import queue as Q\n",
        "from matplotlib.colors import ListedColormap\n",
        "import time\n",
        "import pprint as pp\n",
        "import pandas as pd"
      ],
      "execution_count": 0,
      "outputs": []
    },
    {
      "cell_type": "code",
      "metadata": {
        "id": "McaR6s-YkNwl",
        "colab_type": "code",
        "colab": {}
      },
      "source": [
        "# Function to generate maze of given dimension. It takes 'p' as the probability of a particular cell being blocked.\n",
        "\n",
        "def generate_maze(dim = 10, p = 0.4):\n",
        "    \n",
        "    rows = dim\n",
        "    cols = dim\n",
        "    mat = np.ones((dim,dim))   \n",
        "    \n",
        "    for i in range(rows):\n",
        "        for j in range(cols):\n",
        "            if( rand.uniform(0,1) < p ):    ## if random number is greater than p, cell is assinged as blocked\n",
        "                mat[i][j] = 0\n",
        "    \n",
        "    mat[0][0] = 1 # start\n",
        "    mat[dim-1][dim-1] = 1 # goal\n",
        "    \n",
        "    return mat "
      ],
      "execution_count": 0,
      "outputs": []
    },
    {
      "cell_type": "code",
      "metadata": {
        "id": "GU504i-3iKZt",
        "colab_type": "code",
        "colab": {}
      },
      "source": [
        "# Function to visualize a maze\n",
        "\n",
        "def visualise_maze(maze):\n",
        "  \n",
        "  ax = sns.heatmap(maze, linewidths=.5, cbar=False)\n",
        "  plt.show()"
      ],
      "execution_count": 0,
      "outputs": []
    },
    {
      "cell_type": "markdown",
      "metadata": {
        "id": "GXy_61_fkRqt",
        "colab_type": "text"
      },
      "source": [
        "### Search Algorithms:"
      ]
    },
    {
      "cell_type": "code",
      "metadata": {
        "id": "rbfowHFxkiJq",
        "colab_type": "code",
        "colab": {}
      },
      "source": [
        "# Function to check whether a given child cell is valid for exploring (adding to the fringe). Returns boolean indicating validity.\n",
        "\n",
        "def check_child_validity(maze,vertex,visited):\n",
        "    \n",
        "    dim = maze.shape[0] \n",
        "    \n",
        "    # If dimensions are in the range of the matrix dimensions (if cell is going out of bounds)\n",
        "    if vertex[0]==-1 or vertex[1]==-1 or vertex[0]==dim or vertex[1]==dim:\n",
        "        return False\n",
        "      \n",
        "    # If cell is closed or already visited\n",
        "    elif maze[vertex[0],vertex[1]]==0 or vertex in visited:\n",
        "        return False\n",
        "    \n",
        "    # Valid\n",
        "    else:\n",
        "        return True  "
      ],
      "execution_count": 0,
      "outputs": []
    },
    {
      "cell_type": "code",
      "metadata": {
        "id": "wqh-rJchklBR",
        "colab_type": "code",
        "colab": {}
      },
      "source": [
        "# Function to generate neighbours of a given cell\n",
        "\n",
        "def create_child_nodes(maze,visited,x,y):\n",
        "  child_list = []\n",
        "  \n",
        "  node1 = (x+1,y)   # Right neighbor\n",
        "  if(check_child_validity(maze,node1, visited)):\n",
        "    child_list.append(node1)\n",
        "                \n",
        "  node2 = (x,y+1)   # Bottom neighbor\n",
        "  if(check_child_validity(maze,node2, visited)):\n",
        "    child_list.append(node2)\n",
        "\n",
        "  node3 = (x-1,y)   # Left neighbor\n",
        "  if(check_child_validity(maze,node3, visited)):\n",
        "    child_list.append(node3)\n",
        "\n",
        "  node4 = (x,y-1)   # Top neighbor\n",
        "  if(check_child_validity(maze,node4, visited)):\n",
        "    child_list.append(node4)\n",
        "  \n",
        "  return child_list"
      ],
      "execution_count": 0,
      "outputs": []
    },
    {
      "cell_type": "markdown",
      "metadata": {
        "id": "9qPnpEZaIjW2",
        "colab_type": "text"
      },
      "source": [
        "## BFS"
      ]
    },
    {
      "cell_type": "code",
      "metadata": {
        "id": "TdEM8AoOI3_Z",
        "colab_type": "code",
        "colab": {}
      },
      "source": [
        "# Function to implement Breadth First Search\n",
        "\n",
        "def BFS(maze,start,goal):\n",
        "  \n",
        "    fringe = []\n",
        "    fringe.append(start)\n",
        "    visited = []    \n",
        "    prev_list = {}  # To store pointers for backtracking\n",
        "    \n",
        "    count_of_nodes = 0\n",
        "    max_fringe_size = 0\n",
        "    \n",
        "    while(fringe):\n",
        "        vertex = fringe.pop(0)\n",
        "        max_fringe_size = max(max_fringe_size, len(fringe))\n",
        "        count_of_nodes+=1\n",
        "\n",
        "        if vertex == goal:   # checking Goal state \n",
        "            return 1, prev_list, count_of_nodes, max_fringe_size, visited\n",
        "            \n",
        "        i = vertex[0]\n",
        "        j = vertex[1]\n",
        "            \n",
        "        # Generating and adding child nodes in fringe \n",
        "        child = create_child_nodes(maze,visited,i,j)\n",
        "        if child:\n",
        "            for c in child:\n",
        "                prev_list[c] = vertex\n",
        "                fringe.append(c)\n",
        "                visited.append(c)\n",
        "\n",
        "    return 0, prev_list, count_of_nodes, max_fringe_size, visited"
      ],
      "execution_count": 0,
      "outputs": []
    },
    {
      "cell_type": "markdown",
      "metadata": {
        "id": "q6x7B13Yl4_Z",
        "colab_type": "text"
      },
      "source": [
        "## DFS"
      ]
    },
    {
      "cell_type": "code",
      "metadata": {
        "id": "bPcFsc3UQwWP",
        "colab_type": "code",
        "colab": {}
      },
      "source": [
        "# Function to implement Breadth First Search\n",
        "\n",
        "def DFS(maze, start, goal):\n",
        "    \n",
        "    fringe = [start]\n",
        "    visited = [start]\n",
        "    prev_list = {}\n",
        "    \n",
        "    count_of_nodes = 0\n",
        "    max_fringe_size = 0\n",
        "    \n",
        "    while fringe:\n",
        "        (i, j) = fringe.pop()\n",
        "        count_of_nodes+=1\n",
        "        max_fringe_size = max( max_fringe_size, len(fringe) )\n",
        "        \n",
        "        if (i, j) == goal:\n",
        "            return 1, prev_list, count_of_nodes, max_fringe_size, visited\n",
        "           \n",
        "        # Generating and adding child nodes in fringe \n",
        "        child = create_child_nodes(maze,visited,i,j)\n",
        "        if child:\n",
        "            for c in child:\n",
        "                prev_list[c] = (i,j)\n",
        "                fringe.append(c)\n",
        "                visited.append(c)\n",
        "\n",
        "    return 0, prev_list, count_of_nodes, max_fringe_size, visited"
      ],
      "execution_count": 0,
      "outputs": []
    },
    {
      "cell_type": "markdown",
      "metadata": {
        "id": "3-raVNjErso_",
        "colab_type": "text"
      },
      "source": [
        "##Improved DFS (2.7)\n",
        "For DFS, can you improve the performance of the algorithm by choosing what order to load the neighboring\n",
        "rooms into the fringe? What neighbors are `worth' looking at before others? Be thorough and justify yourself."
      ]
    },
    {
      "cell_type": "code",
      "metadata": {
        "id": "6TZJzFswroNo",
        "colab_type": "code",
        "colab": {}
      },
      "source": [
        "def prioritize_children(maze, goal, visited, x, y):\n",
        "  \n",
        "    children = []\n",
        "    node = []\n",
        "    h = []\n",
        "    \n",
        "    node.append((x+1, y))\n",
        "    h.append((goal - node[0][0]) + (goal - node[0][1]))\n",
        "    #n.append(len(create_child_nodes(maze, visited, node1[0], node1[1])))\n",
        "    \n",
        "    node.append((x, y+1))\n",
        "    h.append((goal - node[1][0]) + (goal - node[1][1]))\n",
        "    #n.append(len(create_child_nodes(maze, visited, node2[0], node2[1])))\n",
        "    \n",
        "    node.append((x-1, y))\n",
        "    h.append((goal - node[2][0]) + (goal - node[2][1]))\n",
        "    #n.append(len(create_child_nodes(maze, visited, node3[0], node3[1])))\n",
        "    \n",
        "    node.append((x, y-1))\n",
        "    h.append((goal - node[3][0]) + (goal - node[3][1]))\n",
        "    #n.append(len(create_child_nodes(maze, visited, node4[0], node4[1])))\n",
        "    \n",
        "    for i in range(4):\n",
        "        ind = h.index(min(h))\n",
        "        h.pop(ind)\n",
        "        current_child = node.pop(ind)\n",
        "        if(check_child_validity(maze,current_child,visited)):\n",
        "            children.append(current_child)\n",
        "    \n",
        "    children.reverse()\n",
        "    return children"
      ],
      "execution_count": 0,
      "outputs": []
    },
    {
      "cell_type": "code",
      "metadata": {
        "id": "hPaJFvpfsPUK",
        "colab_type": "code",
        "colab": {}
      },
      "source": [
        "def improved_DFS(maze, start, goal):\n",
        "  \n",
        "    fringe = [start]\n",
        "    visited = [start]\n",
        "    prev_list = {}\n",
        "    \n",
        "    count_of_nodes = 0\n",
        "    max_fringe_size = 0\n",
        "    \n",
        "    while fringe:\n",
        "        (i, j) = fringe.pop()\n",
        "        count_of_nodes+=1\n",
        "        max_fringe_size = max( max_fringe_size, len(fringe) )\n",
        "        \n",
        "        if (i, j) == goal:\n",
        "            return 1, prev_list, count_of_nodes, max_fringe_size\n",
        "           \n",
        "        # Generating and adding child nodes in fringe \n",
        "        children = prioritize_children(maze,goal[0]-1,visited,i,j)\n",
        "        if children:\n",
        "          for c in children:\n",
        "            prev_list[c] = (i,j)\n",
        "            fringe.append(c)\n",
        "            visited.append(c)\n",
        "     \n",
        "    return 0, prev_list, count_of_nodes, max_fringe_size"
      ],
      "execution_count": 0,
      "outputs": []
    },
    {
      "cell_type": "markdown",
      "metadata": {
        "id": "uD6MM78ZxWKW",
        "colab_type": "text"
      },
      "source": [
        "### Bi-directional BFS:"
      ]
    },
    {
      "cell_type": "code",
      "metadata": {
        "id": "HuHeM3J17nqv",
        "colab_type": "code",
        "colab": {}
      },
      "source": [
        "def biBFS(maze,visited,fringe,prev_list,count_of_nodes,max_fringe_size):\n",
        "  \n",
        "  vertex = fringe.pop(0)\n",
        "  count_of_nodes+=1\n",
        "  max_fringe_size = max( max_fringe_size, len(fringe))\n",
        "            \n",
        "  i = vertex[0]\n",
        "  j = vertex[1]\n",
        "            \n",
        "  # Generating and adding child nodes in fringe \n",
        "  \n",
        "  child = create_child_nodes(maze,visited,i,j)\n",
        "  if child:\n",
        "    for c in child:\n",
        "      prev_list[c] = vertex\n",
        "      fringe.append(c)\n",
        "      visited.append(c) \n",
        "    \n",
        "  return visited, fringe, prev_list, count_of_nodes, max_fringe_size"
      ],
      "execution_count": 0,
      "outputs": []
    },
    {
      "cell_type": "code",
      "metadata": {
        "id": "d-576AvR-br2",
        "colab_type": "code",
        "colab": {}
      },
      "source": [
        "def isIntersecting(s_visited,g_visited):\n",
        "  \n",
        "    for c in s_visited:\n",
        "        if(c in g_visited):\n",
        "            return c\n",
        "    return (-1,-1)"
      ],
      "execution_count": 0,
      "outputs": []
    },
    {
      "cell_type": "code",
      "metadata": {
        "id": "ufyijwxSxXyI",
        "colab_type": "code",
        "colab": {}
      },
      "source": [
        "def BiDirectionalBFS(maze, start, goal):\n",
        "  \n",
        "    count_of_nodes = 0\n",
        "    max_fringe_size = 0\n",
        "  \n",
        "    s_visited = []\n",
        "    g_visited = []\n",
        "    s_visited.append(start)\n",
        "    g_visited.append(goal)\n",
        "  \n",
        "    s_prev = {}\n",
        "    g_prev = {}\n",
        "  \n",
        "    s_fringe = [start]\n",
        "    g_fringe = [goal]\n",
        "  \n",
        "  \n",
        "    intersectionNode = (-1,-1)\n",
        "  \n",
        "    while(s_fringe and g_fringe):\n",
        "    \n",
        "        s_visited, s_fringe, s_prev, count_of_nodes, max_fringe_size = biBFS(maze,s_visited,s_fringe,s_prev,count_of_nodes,max_fringe_size)\n",
        "        g_visited, g_fringe, g_prev,count_of_nodes, max_fringe_size = biBFS(maze,g_visited,g_fringe,g_prev,count_of_nodes,max_fringe_size)\n",
        "      \n",
        "        intersectionNode = isIntersecting(s_visited, g_visited)\n",
        "      \n",
        "        if intersectionNode!=(-1,-1):\n",
        "            print(\"Intersection at cell:\")\n",
        "            print(intersectionNode)\n",
        "\n",
        "            return 1, intersectionNode, s_prev, g_prev, count_of_nodes, max_fringe_size\n",
        "      \n",
        "    return 0, intersectionNode, s_prev, g_prev, count_of_nodes, max_fringe_size\n"
      ],
      "execution_count": 0,
      "outputs": []
    },
    {
      "cell_type": "markdown",
      "metadata": {
        "id": "Z5t---qhIfXE",
        "colab_type": "text"
      },
      "source": [
        "## A*"
      ]
    },
    {
      "cell_type": "code",
      "metadata": {
        "id": "nKEKK5SWIdMu",
        "colab_type": "code",
        "colab": {}
      },
      "source": [
        "def A_star_heuristic(maze, h, goal, heuristic):    \n",
        "    \n",
        "    dim = maze.shape[0]\n",
        "    \n",
        "    for i in range(dim):\n",
        "        for j in range(dim): \n",
        "            if(heuristic == \"manhattan\"):\n",
        "                h[i][j] = ( abs(goal[0]-i) + abs(goal[1]-j) )\n",
        "\n",
        "            if(heuristic == \"euclidean\"):\n",
        "                h[i][j] = math.sqrt( (goal[0] - i)**2 + (goal[1]-j)**2 ) \n",
        "    "
      ],
      "execution_count": 0,
      "outputs": []
    },
    {
      "cell_type": "code",
      "metadata": {
        "id": "GvAosG6UIp0Z",
        "colab_type": "code",
        "colab": {}
      },
      "source": [
        "def A_star(maze, start, goal, heuristic):\n",
        "    \n",
        "    dim = maze.shape[0]\n",
        "    \n",
        "    h = np.zeros((dim, dim))\n",
        "    g = np.zeros((dim,dim))\n",
        "    f = np.zeros((dim,dim))\n",
        "    \n",
        "    g[start] = 0\n",
        "    A_star_heuristic( maze, h, goal, heuristic)\n",
        "    f = g + h \n",
        "    \n",
        "    visited = []\n",
        "    prev_list = {} \n",
        "    \n",
        "    count_of_nodes = 0\n",
        "    max_fringe_size = 0\n",
        "    \n",
        "    fringe = Q.PriorityQueue()\n",
        "    fringe.put((f[start], start))\n",
        "\n",
        "     # To store pointers for backtracking\n",
        "    \n",
        "    \n",
        "    while not (fringe.empty()):\n",
        "        \n",
        "        \n",
        "        vertex = fringe.get()[1]\n",
        "        count_of_nodes+=1\n",
        "        max_fringe_size = max( max_fringe_size, fringe.qsize() )\n",
        "        visited.append(vertex)\n",
        "        \n",
        "        if vertex == goal:\n",
        "            return 1, prev_list, count_of_nodes, max_fringe_size, visited\n",
        "        \n",
        "        i = vertex[0]\n",
        "        j = vertex[1] \n",
        "\n",
        "        # Generating and adding child nodes in fringe \n",
        "        child = create_child_nodes(maze,visited,i,j)\n",
        "        if child:\n",
        "            for c in child:\n",
        "                prev_list[c] = vertex\n",
        "                visited.append(c)\n",
        "                g[c] = g[vertex] + 1\n",
        "                f[c] = g[c] + h[c]\n",
        "                fringe.put((f[c], c))\n",
        "    \n",
        "    return 0, prev_list, count_of_nodes, max_fringe_size, visited  # No path found"
      ],
      "execution_count": 0,
      "outputs": []
    },
    {
      "cell_type": "code",
      "metadata": {
        "id": "Z20KjX-WcVCo",
        "colab_type": "code",
        "colab": {}
      },
      "source": [
        "def display_path(maze_temp, prev_list, start, goal):\n",
        "  \n",
        "    prev_node = goal\n",
        "    path = [prev_node]\n",
        "    maze_temp[prev_node] = 25\n",
        "    \n",
        "    if bool(prev_list):\n",
        "      while(prev_list[prev_node] != start):\n",
        "        current_node = prev_node\n",
        "        prev_node = prev_list[(current_node)]\n",
        "        path.append(prev_node)\n",
        "        maze_temp[prev_node] = 50\n",
        "        \n",
        "      path.append(prev_list[prev_node])\n",
        "      path.reverse()\n",
        "      maze_temp[prev_list[prev_node]] = 25\n",
        "      \n",
        "      path_length = str(len(path))\n",
        "\n",
        "#       sns.heatmap(maze_temp, cmap=ListedColormap(['black', 'green', 'crimson', 'papayawhip']), linewidths=.5,  cbar=False)\n",
        "#       plt.show()\n",
        "      \n",
        "      return path_length"
      ],
      "execution_count": 0,
      "outputs": []
    },
    {
      "cell_type": "code",
      "metadata": {
        "id": "a7np4USiTHlf",
        "colab_type": "code",
        "colab": {}
      },
      "source": [
        "def path_length(goal, prev_list, start):\n",
        "    \n",
        "    prev_node = goal\n",
        "    path = [prev_node]\n",
        "    path_len = 0\n",
        "    \n",
        "    if bool(prev_list):\n",
        "        while(prev_node in prev_list.keys() and prev_list[prev_node] != start):\n",
        "            current_node = prev_node\n",
        "            prev_node = prev_list[(current_node)]\n",
        "            path.append(prev_node)\n",
        "        \n",
        "        path.append(prev_list[prev_node])\n",
        "        path.reverse()\n",
        "\n",
        "        path_len = len(path)\n",
        "    \n",
        "    return path_len "
      ],
      "execution_count": 0,
      "outputs": []
    },
    {
      "cell_type": "markdown",
      "metadata": {
        "id": "OXJtJOrkyhmP",
        "colab_type": "text"
      },
      "source": [
        "##2.1\n",
        "Find a map size (dim) that is large enough to produce maps that require some work to solve, but small enough\n",
        "that you can run each algorithm multiple times for a range of possible p values. How did you pick a dim?"
      ]
    },
    {
      "cell_type": "code",
      "metadata": {
        "id": "eKN1laYg_9lk",
        "colab_type": "code",
        "outputId": "ee9d17ca-5233-459f-f097-c154c111e679",
        "colab": {
          "base_uri": "https://localhost:8080/",
          "height": 733
        }
      },
      "source": [
        "##some work to solve - nodes explored ##\n",
        "\n",
        "def optimal_dim():\n",
        "    \n",
        "    #start = (0,0)\n",
        "    dim_start = 50 \n",
        "    dim_end = 350\n",
        "    jump = 50\n",
        "    p = 0.2\n",
        "    n_trials = 1   \n",
        "    time_list = []\n",
        "    nodes_explored = []\n",
        "    \n",
        "    \n",
        "    for dim in range(dim_start,dim_end, jump):\n",
        "        \n",
        "        goal = (dim-1,dim-1)\n",
        "        flag = 0\n",
        "        time_average = []\n",
        "        count_of_nodes_average = []\n",
        "        #print()\n",
        "        print(\"dim=\", dim)\n",
        "        \n",
        "        for n in range(n_trials):\n",
        "            \n",
        "            flag = 0\n",
        "            #print(\"n_trials = \", n+1)\n",
        "            counter = 1\n",
        "            while( flag == 0):\n",
        "\n",
        "                #print(counter)\n",
        "                counter + 1\n",
        "                maze = generate_maze(dim, p)\n",
        "                start_time = time.time()          \n",
        "                is_goal_reached, prev_list, count_of_nodes, max_fringe_size, visited  = A_star(maze, start, goal, \"manhattan\")\n",
        "                current_time = round(time.time() - start_time, 4)\n",
        "                flag = is_goal_reached\n",
        "#                 if(is_goal_reached):\n",
        "#                     print(\"Goal Reached\")\n",
        "                \n",
        "            #print(n_trials)\n",
        "            #print(count_of_nodes)\n",
        "            if is_goal_reached:\n",
        "              time_average.append(current_time)\n",
        "              count_of_nodes_average.append(count_of_nodes)\n",
        "          \n",
        "        \n",
        "        #print(dim, count_of_nodes_average)\n",
        "        time_list.append(sum(time_average)/len(time_average))\n",
        "        nodes_explored.append(sum(count_of_nodes_average)/ len(count_of_nodes_average))\n",
        "    \n",
        "   \n",
        "    \n",
        "    x = np.arange(dim_start, dim_end, jump)\n",
        "    \n",
        "    \n",
        "    ## PLOT TIME ####\n",
        "    \n",
        "    plt.close()\n",
        "    sns.set(style=\"whitegrid\", color_codes=True)\n",
        "    pal = sns.color_palette(\"Greens_d\", len(time_list))\n",
        "    sns.barplot(x, time_list, palette = np.array(pal[::-1]) )\n",
        "   \n",
        "    plt.xlabel(\"dim\")\n",
        "    plt.ylabel(\"Average Execution time\")\n",
        "    plt.title(\"Dimension vs time for p = \"+ str(p)+ \", #trials = \" + str(n_trials))\n",
        "    plt.show()\n",
        "    \n",
        "    ### PLOT NO. OF NODES ###\n",
        "    sns.set(style=\"whitegrid\", color_codes=True)\n",
        "    pal = sns.color_palette(\"Greens_d\", len(nodes_explored))\n",
        "   \n",
        "    sns.barplot(x, nodes_explored, palette=np.array(pal[::-1]))\n",
        "    plt.xlabel(\"dim\")\n",
        "    plt.ylabel(\"Average # nodes explored\")\n",
        "    plt.title(\"Dimension vs Nodes Explored for p = \"+ str(p))\n",
        "    \n",
        "\n",
        "    plt.show()\n",
        "    \n",
        "    \n",
        "    \n",
        "    print(\"dim = \", x)\n",
        "    print(\"Average_time = \", time_list)\n",
        "    print(\"Average nodes explored = \", nodes_explored)\n",
        "\n",
        "optimal_dim()"
      ],
      "execution_count": 0,
      "outputs": [
        {
          "output_type": "stream",
          "text": [
            "dim= 50\n",
            "dim= 100\n",
            "dim= 150\n",
            "dim= 200\n",
            "dim= 250\n",
            "dim= 300\n"
          ],
          "name": "stdout"
        },
        {
          "output_type": "display_data",
          "data": {
            "image/png": "[encoded data removed]",
            "text/plain": [
              "<Figure size 432x288 with 1 Axes>"
            ]
          },
          "metadata": {
            "tags": []
          }
        },
        {
          "output_type": "display_data",
          "data": {
            "image/png": "[encoded data removed]",
            "text/plain": [
              "<Figure size 432x288 with 1 Axes>"
            ]
          },
          "metadata": {
            "tags": []
          }
        },
        {
          "output_type": "stream",
          "text": [
            "dim =  [ 50 100 150 200 250 300]\n",
            "Average_time =  [0.1491, 1.5397, 9.2972, 26.5221, 59.9349, 106.482]\n",
            "Average nodes explored =  [1403.0, 4744.0, 11642.0, 19354.0, 28925.0, 38405.0]\n"
          ],
          "name": "stdout"
        }
      ]
    },
    {
      "cell_type": "code",
      "metadata": {
        "id": "fy97XFi6jYgW",
        "colab_type": "code",
        "colab": {}
      },
      "source": [
        "##some work to solve - nodes explored ##\n",
        "\n",
        "def optimal_dim_with_variable_p():\n",
        "    \n",
        "    #dim_range = np.arange(10,17,1)\n",
        "    dim_range = np.arange(50,300,50)\n",
        "    p_range = np.arange(0.1, 0.5, 0.1)  \n",
        "    time_list = []\n",
        "    nodes_explored = []\n",
        "    \n",
        "    df_time = pd.DataFrame(index= dim_range,  columns = p_range)\n",
        "    df_nodes = pd.DataFrame(index= dim_range, columns = p_range)\n",
        "    \n",
        "    for dim in dim_range:\n",
        "        \n",
        "        goal = (dim-1,dim-1)\n",
        "        flag = 0\n",
        "        time_average = []\n",
        "        count_of_nodes_average = []\n",
        "        \n",
        "       \n",
        "        \n",
        "        for p in p_range:\n",
        "            \n",
        "           \n",
        "            is_goal_reached = 0\n",
        "            \n",
        "            while( is_goal_reached == 0 ):\n",
        "                maze = generate_maze(dim, p)\n",
        "                start_time = time.time()          \n",
        "                is_goal_reached, prev_list, count_of_nodes, max_fringe_size  = improved_DFS(maze, start, goal)\n",
        "                current_time = round(time.time() - start_time, 4) \n",
        "            \n",
        "            df_time.loc[dim][p] = current_time\n",
        "            df_nodes.loc[dim][p] = count_of_nodes\n",
        "            \n",
        "    print(\"Time\")\n",
        "    print(df_time)\n",
        "    print(\"Nodes\")\n",
        "    print(df_nodes)\n",
        "    \n",
        "    \n",
        "    #colors = ['rosybrown','firebrick' , 'violet', 'cyan', 'darkslategrey']\n",
        "    colors = [\"purple\", 'olive', 'cyan', 'red', 'green', 'rosybrown', 'darkblue']\n",
        "    plot_legend_label = \"dim \"\n",
        "    plot_legend_value = dim_range\n",
        "    \n",
        "    for i in range(df_time.shape[0]):\n",
        "      plt.plot(df_time.iloc[i].index, df_time.iloc[i].values,\n",
        "      label= plot_legend_label+\"=%d\"%(plot_legend_value[i]), \n",
        "               marker='o', color=colors[i])\n",
        "      \n",
        "      plt.legend()\n",
        "    \n",
        "    plt.xlabel('p')\n",
        "    plt.ylabel('Time')\n",
        "    plt.xticks(np.arange(0.1, 0.5, 0.1))\n",
        "    #plt.title(\"Dimension vs time for p = \"+ str(p)+ \", #trials = \" + str(n_trials))\n",
        "    plt.show()\n",
        "    \n",
        "    \n",
        "    ## NODES ##\n",
        "    \n",
        "    \n",
        "    for i in range(df_nodes.shape[0]):\n",
        "      plt.plot(df_nodes.iloc[i].index, df_nodes.iloc[i].values,\n",
        "      label= plot_legend_label+\"=%d\"%(plot_legend_value[i]), \n",
        "               marker='o', color=colors[i])\n",
        "      \n",
        "      plt.legend()\n",
        "    \n",
        "    plt.xlabel('p')\n",
        "    plt.ylabel('#Nodes Explored')\n",
        "    plt.xticks(np.arange(0.1, 0.5, 0.1))\n",
        "    #plt.title(\"Dimension vs time for p = \"+ str(p)+ \", #trials = \" + str(n_trials))\n",
        "    plt.show()\n",
        "    \n"
      ],
      "execution_count": 0,
      "outputs": []
    },
    {
      "cell_type": "code",
      "metadata": {
        "id": "EpUwIFqnj2Xg",
        "colab_type": "code",
        "colab": {
          "base_uri": "https://localhost:8080/",
          "height": 780
        },
        "outputId": "f2d15894-7260-4d92-cd11-ac58a7a71b02"
      },
      "source": [
        "start = (0,0)\n",
        "optimal_dim_with_variable_p()"
      ],
      "execution_count": 30,
      "outputs": [
        {
          "output_type": "stream",
          "text": [
            "Time\n",
            "        0.1     0.2     0.3     0.4\n",
            "50   0.0021  0.0033  0.0038  0.0104\n",
            "100  0.0067  0.0469  0.0487  0.3648\n",
            "150  0.0128  0.0202  0.0151  0.0978\n",
            "200  0.0193  0.0218  0.0389  0.1856\n",
            "250  0.0272  0.0517  0.4467  0.9677\n",
            "Nodes\n",
            "     0.1  0.2   0.3   0.4\n",
            "50   107  130   162   443\n",
            "100  213  969  1065  3469\n",
            "150  335  562   462  1638\n",
            "200  443  532   827  2286\n",
            "250  539  937  3627  5854\n"
          ],
          "name": "stdout"
        },
        {
          "output_type": "display_data",
          "data": {
            "image/png": "[encoded data removed]",
            "text/plain": [
              "<Figure size 432x288 with 1 Axes>"
            ]
          },
          "metadata": {
            "tags": []
          }
        },
        {
          "output_type": "display_data",
          "data": {
            "image/png": "[encoded data removed]",
            "text/plain": [
              "<Figure size 432x288 with 1 Axes>"
            ]
          },
          "metadata": {
            "tags": []
          }
        }
      ]
    },
    {
      "cell_type": "markdown",
      "metadata": {
        "id": "l6TEjWUIMiAC",
        "colab_type": "text"
      },
      "source": [
        "##2.2 & 2.6\n",
        "For p = 0.2, generate a solvable map, and show the paths returned for each algorithm. Do the results make\n",
        "sense? \n",
        "Do these algorithms behave as they should?"
      ]
    },
    {
      "cell_type": "code",
      "metadata": {
        "id": "8392hbwBHj7d",
        "colab_type": "code",
        "colab": {}
      },
      "source": [
        "def solve_maze():\n",
        "  \n",
        "    path_length = 0\n",
        "    \n",
        "    ## LIST of fators ##\n",
        "    algo_list = [ \"BFS\", \"DFS\", \"Improved_DFS\", \"A_Manhattan\", \"A_Euclidean\", \"BD_BFS\"]\n",
        "    factor_list = [\"path_length\", \"time\", \"nodes_explored\", \"max_fringe_size\"] \n",
        "    df = pd.DataFrame(columns= factor_list, index=algo_list)\n",
        "\n",
        "  \n",
        "    print(\"---------Maze Generated---------\")\n",
        "    maze = generate_maze(dim, p)\n",
        "      maze_temp = maze                   ## maze_temp is used for visualisation \n",
        "    maze_temp[0][0] = 0.5                   \n",
        "    maze_temp[dim-1][dim-1] = 0.5\n",
        "    sns.heatmap(maze_temp, cmap=ListedColormap(['black', 'green', 'papayawhip']), linewidths=.5,  cbar=False)\n",
        "    plt.show()\n",
        "    \n",
        "    \n",
        "\n",
        "    ##  BFS  ###\n",
        "    print(\"---------BFS---------\")\n",
        "    \n",
        "    start_time = time.time()\n",
        "    is_goal_reached, prev_list, count_of_nodes, max_fringe_size, visited = BFS(maze, start, goal)\n",
        "    current_time = round(time.time() - start_time, 4)\n",
        "    \n",
        "    if(is_goal_reached):\n",
        "        #print(\"Goal Reached\")\n",
        "        maze_temp = maze*100\n",
        "        path_length = display_path(maze_temp,prev_list,start,goal)\n",
        "    else:\n",
        "        print(\"No path found\")\n",
        "\n",
        "        \n",
        "    \n",
        "    df.loc[\"BFS\"][\"time\"] = current_time\n",
        "    df.loc[\"BFS\"][\"nodes_explored\"] = count_of_nodes\n",
        "    df.loc[\"BFS\"][\"path_length\"] = path_length\n",
        "    df.loc[\"BFS\"][\"max_fringe_size\"] = max_fringe_size\n",
        "    \n",
        "\n",
        "    ## DFS ##\n",
        "    print(\"\\n---------DFS---------\")\n",
        "    \n",
        "    start_time = time.time()\n",
        "    is_goal_reached, prev_list, count_of_nodes, max_fringe_size, visited  = DFS(maze, start, goal)\n",
        "    current_time = round(time.time() - start_time, 4)\n",
        "   \n",
        "    if(is_goal_reached):\n",
        "        print(\"Goal Reached\")\n",
        "        maze_temp = maze*100\n",
        "        path_length = display_path(maze_temp,prev_list,start,goal)\n",
        "    else:\n",
        "        print(\"No path found\")\n",
        "\n",
        "    \n",
        "    df.loc[\"Improved_DFS\"][\"time\"] = current_time\n",
        "    df.loc[\"Improved_DFS\"][\"nodes_explored\"] = count_of_nodes\n",
        "    df.loc[\"Improved_DFS\"][\"path_length\"] = path_length\n",
        "    df.loc[\"Improved_DFS\"][\"max_fringe_size\"] = max_fringe_size\n",
        "\n",
        "    \n",
        "    ## Improved DFS ##\n",
        "    print(\"\\n---------Improved DFS---------\")\n",
        "\n",
        "    start_time = time.time()\n",
        "    is_goal_reached, prev_list, count_of_nodes, max_fringe_size  = improved_DFS(maze, start, goal)\n",
        "    current_time = round(time.time() - start_time, 4)\n",
        "    \n",
        "    if(is_goal_reached):\n",
        "        print(\"Goal Reached\")\n",
        "        maze_temp = maze*100\n",
        "        path_length = display_path(maze_temp,prev_list,start,goal)\n",
        "    else:\n",
        "        print(\"No path found\")\n",
        "\n",
        "    \n",
        "    df.loc[\"IDFS\"][\"time\"] = current_time\n",
        "    df.loc[\"IDFS\"][\"nodes_explored\"] = count_of_nodes\n",
        "    df.loc[\"IDFS\"][\"path_length\"] = path_length\n",
        "    df.loc[\"IDFS\"][\"max_fringe_size\"] = max_fringe_size\n",
        "\n",
        "    \n",
        "    ##  A* - MANHATTAN  ##\n",
        "    print(\" \\n ---------A* -Manhattan---------\")\n",
        "    start_time = time.time()\n",
        "    is_goal_reached, prev_list, count_of_nodes, max_fringe_size, visited = A_star(maze, start, goal, \"manhattan\")\n",
        "    current_time = round(time.time() - start_time, 4)\n",
        "    \n",
        "    if(is_goal_reached):\n",
        "        print(\"Goal Reached\")\n",
        "        maze_temp = maze*100\n",
        "        path_length = display_path(maze_temp,prev_list,start,goal)\n",
        "    else:\n",
        "        print(\"No path found\")\n",
        "\n",
        "    df.loc[\"A_Manhattan\"][\"time\"] = current_time\n",
        "    df.loc[\"A_Manhattan\"][\"nodes_explored\"] = count_of_nodes\n",
        "    df.loc[\"A_Manhattan\"][\"path_length\"] = path_length\n",
        "    df.loc[\"A_Manhattan\"][\"max_fringe_size\"] = max_fringe_size\n",
        "    \n",
        "  \n",
        "  ## A* - Eucledian ##\n",
        "    print(\"\\n ---------A* Eucledian---------\")\n",
        "    start_time = time.time()\n",
        "    is_goal_reached, prev_list, count_of_nodes, max_fringe_size, visited = A_star(maze, start, goal, \"eucledian\")\n",
        "    current_time = round(time.time() - start_time, 4)\n",
        "    \n",
        "    if(is_goal_reached):\n",
        "        print(\"Goal Reached\")\n",
        "        maze_temp = maze*100\n",
        "        path_length = display_path(maze_temp,prev_list,start,goal)\n",
        "    else:\n",
        "        print(\"No path found\")\n",
        "\n",
        "    df.loc[\"A_Euclidean\"][\"time\"] = current_time\n",
        "    df.loc[\"A_Euclidean\"][\"nodes_explored\"] = count_of_nodes\n",
        "    df.loc[\"A_Euclidean\"][\"path_length\"] = path_length\n",
        "    df.loc[\"A_Euclidean\"][\"max_fringe_size\"] = max_fringe_size\n",
        "    \n",
        "    \n",
        "      ## Bi-Directional BFS ##\n",
        "    print(\"\\n ---------BD-BFS---------\")\n",
        "    start_time = time.time()\n",
        "    is_goal_reached, intersectionNode, s_prev, g_prev, count_of_nodes, max_fringe_size = BiDirectionalBFS(maze, (0,0),(dim-1,dim-1))\n",
        "    current_time = round(time.time() - start_time, 4)\n",
        "    \n",
        "    if(is_goal_reached):\n",
        "        print(\"Goal Reached\")\n",
        "    else:\n",
        "        print(\"No path found\")\n",
        "\n",
        "    \n",
        "    if intersectionNode!=(-1,-1):\n",
        "      maze_temp_1 = maze*100\n",
        "      path_1 = display_path(maze_temp_1, s_prev, (0,0),intersectionNode)\n",
        "      maze_temp_2 = maze*100\n",
        "      path_2 = display_path(maze_temp_2, g_prev, (dim-1,dim-1),intersectionNode)\n",
        "      path_length = int(path_1) + int(path_2) -1\n",
        "    \n",
        "    df.loc[\"BD_BFS\"][\"time\"] = current_time\n",
        "    df.loc[\"BD_BFS\"][\"nodes_explored\"] = count_of_nodes \n",
        "    df.loc[\"BD_BFS\"][\"path_length\"] = path_length \n",
        "    df.loc[\"BD_BFS\"][\"max_fringe_size\"] = max_fringe_size \n",
        "    \n",
        "    \n",
        "    print(df)\n"
      ],
      "execution_count": 0,
      "outputs": []
    },
    {
      "cell_type": "code",
      "metadata": {
        "id": "KKc18mzPJRp6",
        "colab_type": "code",
        "colab": {}
      },
      "source": [
        "dim = 20\n",
        "p = 0.2\n",
        "start = (0,0)\n",
        "goal = (dim-1,dim-1)"
      ],
      "execution_count": 0,
      "outputs": []
    },
    {
      "cell_type": "code",
      "metadata": {
        "id": "0F0ZgLFGvexy",
        "colab_type": "code",
        "outputId": "f9619a34-6204-4c06-d355-97193317d43e",
        "colab": {
          "base_uri": "https://localhost:8080/",
          "height": 1000
        }
      },
      "source": [
        "solve_maze()"
      ],
      "execution_count": 0,
      "outputs": [
        {
          "output_type": "stream",
          "text": [
            "---------Maze Generated---------\n"
          ],
          "name": "stdout"
        },
        {
          "output_type": "display_data",
          "data": {
            "image/png": "[encoded data removed]",
            "text/plain": [
              "<Figure size 432x288 with 1 Axes>"
            ]
          },
          "metadata": {
            "tags": []
          }
        },
        {
          "output_type": "stream",
          "text": [
            "---------BFS---------\n"
          ],
          "name": "stdout"
        },
        {
          "output_type": "display_data",
          "data": {
            "image/png": "[encoded data removed]",
            "text/plain": [
              "<Figure size 432x288 with 1 Axes>"
            ]
          },
          "metadata": {
            "tags": []
          }
        },
        {
          "output_type": "stream",
          "text": [
            "\n",
            "---------DFS---------\n",
            "Goal Reached\n"
          ],
          "name": "stdout"
        },
        {
          "output_type": "display_data",
          "data": {
            "image/png": "[encoded data removed]",
            "text/plain": [
              "<Figure size 432x288 with 1 Axes>"
            ]
          },
          "metadata": {
            "tags": []
          }
        },
        {
          "output_type": "stream",
          "text": [
            "\n",
            "---------Improved DFS---------\n",
            "Goal Reached\n"
          ],
          "name": "stdout"
        },
        {
          "output_type": "display_data",
          "data": {
            "image/png": "[encoded data removed]",
            "text/plain": [
              "<Figure size 432x288 with 1 Axes>"
            ]
          },
          "metadata": {
            "tags": []
          }
        },
        {
          "output_type": "stream",
          "text": [
            " \n",
            " ---------A* -Manhattan---------\n",
            "Goal Reached\n"
          ],
          "name": "stdout"
        },
        {
          "output_type": "display_data",
          "data": {
            "image/png": "[encoded data removed]",
            "text/plain": [
              "<Figure size 432x288 with 1 Axes>"
            ]
          },
          "metadata": {
            "tags": []
          }
        },
        {
          "output_type": "stream",
          "text": [
            "\n",
            " ---------A* Eucledian---------\n",
            "Goal Reached\n"
          ],
          "name": "stdout"
        },
        {
          "output_type": "display_data",
          "data": {
            "image/png": "[encoded data removed]",
            "text/plain": [
              "<Figure size 432x288 with 1 Axes>"
            ]
          },
          "metadata": {
            "tags": []
          }
        },
        {
          "output_type": "stream",
          "text": [
            "\n",
            " ---------BD-BFS---------\n",
            "Intersection at cell:\n",
            "(10, 8)\n",
            "Goal Reached\n"
          ],
          "name": "stdout"
        },
        {
          "output_type": "display_data",
          "data": {
            "image/png": "[encoded data removed]",
            "text/plain": [
              "<Figure size 432x288 with 1 Axes>"
            ]
          },
          "metadata": {
            "tags": []
          }
        },
        {
          "output_type": "display_data",
          "data": {
            "image/png": "[encoded data removed]",
            "text/plain": [
              "<Figure size 432x288 with 1 Axes>"
            ]
          },
          "metadata": {
            "tags": []
          }
        },
        {
          "output_type": "stream",
          "text": [
            "            path_length    time nodes_explored max_fringe_size\n",
            "BFS                  39    0.01            323              18\n",
            "DFS                 129  0.0064            238              89\n",
            "IDFS                 53  0.0012             59              44\n",
            "A_Mahnattan          39  0.0159            264              36\n",
            "A_Euclidean          39  0.0182            322              19\n",
            "BD_BFS               39  0.0361            250              17\n"
          ],
          "name": "stdout"
        }
      ]
    },
    {
      "cell_type": "markdown",
      "metadata": {
        "id": "JHHHhoQ6V65r",
        "colab_type": "text"
      },
      "source": [
        "## Maze Solvability (2. 3)\n",
        "Given dim, how does maze-solvability depend on p? For a range of p values, estimate the probability that\n",
        "a maze will be solvable by generating multiple mazes and checking them for solvability. What is the best\n",
        "algorithm to use here? Plot density vs solvability, and try to identify as accurately as you can the threshold p0\n",
        "where for p < p0, most mazes are solvable, but p > p0, most mazes are not solvable."
      ]
    },
    {
      "cell_type": "code",
      "metadata": {
        "id": "WUCDKKjnV4_s",
        "colab_type": "code",
        "colab": {}
      },
      "source": [
        "def maze_solvability_p(dim):\n",
        "    \n",
        "    n_trials = 50\n",
        "    goal = (dim-1, dim-1)\n",
        "    #print(goal)\n",
        "    percent_solvable = []\n",
        "    \n",
        "    for p in range(0, 11, 1):\n",
        "\n",
        "        p = p/10.0\n",
        "        success = 0\n",
        "        \n",
        "        for i in range(n_trials):\n",
        "\n",
        "            maze = generate_maze(dim, p)\n",
        "            is_goal_reached, prev_list, count_of_nodes, max_fringe_size  = improved_DFS(maze, start, goal)\n",
        "\n",
        "            if(is_goal_reached):\n",
        "                success = success + 1\n",
        "        percent_solvable.append((success/n_trials)*100)\n",
        "        #print(\"Success = \", success)\n",
        "\n",
        "    #print(probability_solvable)\n",
        "    x = np.arange(0,1.1,0.1)\n",
        "    plt.clf()\n",
        "    plt.cla()\n",
        "    plt.close()\n",
        "    sns.set(style=\"whitegrid\", color_codes=True)\n",
        "    pal = sns.color_palette(\"Greens\", len(percent_solvable))\n",
        "   \n",
        "    ax = sns.barplot(x.round(1), percent_solvable, palette=np.array(pal[::-1]))\n",
        "    \n",
        "    for p in ax.patches:\n",
        "             ax.annotate(\"%.1f\" % p.get_height(), (p.get_x() + p.get_width() / 2., p.get_height()),\n",
        "                 ha='center', va='center', fontsize=11, color='black', xytext=(0, 10),\n",
        "                 textcoords='offset points')\n",
        "    _ = ax.set_ylim(0,120) \n",
        "    plt.yticks(np.arange(0,120,20))\n",
        "    plt.xlabel(\"p\")\n",
        "    plt.ylabel(\"Success Percent\")\n",
        "    plt.title(\"Density vs solvability for dim = \" + str(dim) + \", #trials = \"+ str(n_trials))\n",
        " \n",
        "    plt.show()\n",
        "   \n",
        "\n"
      ],
      "execution_count": 0,
      "outputs": []
    },
    {
      "cell_type": "code",
      "metadata": {
        "id": "XkQUcNvAr6fn",
        "colab_type": "code",
        "outputId": "52c5a901-37db-46fe-98eb-93012e801bb9",
        "colab": {
          "base_uri": "https://localhost:8080/",
          "height": 301
        }
      },
      "source": [
        "dim = 150\n",
        "start = (0,0)\n",
        "maze_solvability_p(dim)\n"
      ],
      "execution_count": 89,
      "outputs": [
        {
          "output_type": "display_data",
          "data": {
            "image/png": "[encoded data removed]",
            "text/plain": [
              "<Figure size 432x288 with 1 Axes>"
            ]
          },
          "metadata": {
            "tags": []
          }
        }
      ]
    },
    {
      "cell_type": "markdown",
      "metadata": {
        "id": "KgtOd2Dfy4hz",
        "colab_type": "text"
      },
      "source": [
        "##2.4\n",
        "For p in [0; p0] as above, estimate the average or expected length of the shortest path from start to goal. You\n",
        "may discard unsolvable maps. Plot density vs expected shortest path length. What algorithm is most useful\n",
        "here?"
      ]
    },
    {
      "cell_type": "code",
      "metadata": {
        "id": "qWu7jNsJoxnO",
        "colab_type": "code",
        "colab": {}
      },
      "source": [
        "## function to find out the expected or average length of the shortest path from start to goal  \n",
        "\n",
        "def average_shortest_path(dim):\n",
        "    \n",
        "    goal = (dim-1, dim-1)\n",
        "    average_path = []\n",
        "    \n",
        "    for p in range(0,4):\n",
        "        p = p/10.0\n",
        "        num_trials = 50 \n",
        "        \n",
        "        sum_path = 0\n",
        "        for n in range(num_trials):\n",
        "            \n",
        "            maze = generate_maze(dim, p)\n",
        "            \n",
        "            is_goal_reached, prev_list, count_of_nodes, max_fringe_size, visited = BFS(maze, start, goal)\n",
        "           \n",
        "            \n",
        "            if is_goal_reached:\n",
        "                path_len = path_length(goal, prev_list, start)\n",
        "                sum_path += path_len\n",
        "        avg_path = math.floor(sum_path / num_trials)\n",
        "        average_path.append(avg_path)\n",
        "    \n",
        "    x  = np.arange(0,0.4,0.1)\n",
        "    print(x)\n",
        "    print(average_path)\n",
        "    \n",
        "    \n",
        "    sns.set(style=\"whitegrid\", color_codes=True)\n",
        "    pal = sns.color_palette(\"Greens\", len(average_path))\n",
        "   \n",
        "    ax = sns.barplot( x.round(1) , average_path, palette=np.array(pal[::-1]))\n",
        "    for p in ax.patches:\n",
        "             ax.annotate(\"%.1f\" % p.get_height(), (p.get_x() + p.get_width() / 2., p.get_height()),\n",
        "                 ha='center', va='center', fontsize=11, color='black', xytext=(0, 10),\n",
        "                 textcoords='offset points')\n",
        "    #_ = ax.set_ylim(0,120) \n",
        "    #plt.yticks(np.arange(0,120,20))\n",
        "    \n",
        "    plt.xlabel('p')\n",
        "    plt.ylabel('Average shortest path length')\n",
        "    plt.title('Density vs expected shortes path length, dim='+ str(dim))\n",
        "    plt.show()\n"
      ],
      "execution_count": 0,
      "outputs": []
    },
    {
      "cell_type": "code",
      "metadata": {
        "id": "aVhlbdQOs3g2",
        "colab_type": "code",
        "outputId": "26840251-2f0b-4844-f1de-ca07c9cf97ac",
        "colab": {
          "base_uri": "https://localhost:8080/",
          "height": 334
        }
      },
      "source": [
        "average_shortest_path(150)"
      ],
      "execution_count": 217,
      "outputs": [
        {
          "output_type": "stream",
          "text": [
            "[0.  0.1 0.2 0.3]\n",
            "[299, 293, 263, 151]\n"
          ],
          "name": "stdout"
        },
        {
          "output_type": "display_data",
          "data": {
            "image/png": "[encoded data removed]",
            "text/plain": [
              "<Figure size 432x288 with 1 Axes>"
            ]
          },
          "metadata": {
            "tags": []
          }
        }
      ]
    },
    {
      "cell_type": "markdown",
      "metadata": {
        "id": "Qwv-IMGITM4H",
        "colab_type": "text"
      },
      "source": [
        "##2.5\n",
        "Is one heuristic uniformly better than the other for running A\u0003? How can they be compared? Plot the relevant\n",
        "data and justify your conclusions.\n"
      ]
    },
    {
      "cell_type": "code",
      "metadata": {
        "id": "nIj7Mn-4Tfuj",
        "colab_type": "code",
        "colab": {}
      },
      "source": [
        "\n",
        "##some work to solve - nodes explored ##\n",
        "\n",
        "def compare_A_star(dim, p):\n",
        "  \n",
        "  n_trials = np.arange(1,6,1)\n",
        "  goal = (dim-1, dim-1)\n",
        "  \n",
        "  df_manhattan = pd.DataFrame( columns = ['n_trials','time', 'nodes_explored', 'path_length', 'max_fringe_size'], index = n_trials)\n",
        "  df_euclidean = pd.DataFrame( columns = ['n_trials','time', 'nodes_explored', 'path_length', 'max_fringe_size'], index = n_trials)\n",
        "  \n",
        "  i = 1\n",
        "  \n",
        "  while i <= len(n_trials):\n",
        "    \n",
        "    \n",
        "    path_length = 0\n",
        "    maze = generate_maze(dim, p)\n",
        "\n",
        "    start_time = time.time()\n",
        "    is_goal_reached, prev_list, count_of_nodes, max_fringe_size, visited = A_star(maze, start, goal, \"manhattan\")\n",
        "    current_time = round(time.time() - start_time, 4)\n",
        "\n",
        "    if(is_goal_reached):\n",
        "          path_length = display_path(maze,prev_list,start,goal)\n",
        "          \n",
        "    else:\n",
        "      continue\n",
        "\n",
        "    df_manhattan.loc[i][\"n_trials\"] = i\n",
        "    df_manhattan.loc[i][\"time\"] = current_time\n",
        "    df_manhattan.loc[i][\"nodes_explored\"] = count_of_nodes\n",
        "    df_manhattan.loc[i][\"path_length\"] = path_length\n",
        "    df_manhattan.loc[i][\"max_fringe_size\"] = max_fringe_size\n",
        "    \n",
        "    \n",
        "    start_time = time.time()\n",
        "    is_goal_reached, prev_list, count_of_nodes, max_fringe_size, visited = A_star(maze, start, goal, \"eucledian\")\n",
        "    current_time = round(time.time() - start_time, 4)\n",
        "\n",
        "    if(is_goal_reached):\n",
        "          path_length = display_path(maze,prev_list,start,goal)\n",
        "    \n",
        "    df_euclidean.loc[i][\"n_trials\"] = i\n",
        "    df_euclidean.loc[i][\"time\"] = current_time\n",
        "    df_euclidean.loc[i][\"nodes_explored\"] = count_of_nodes\n",
        "    df_euclidean.loc[i][\"path_length\"] = path_length\n",
        "    df_euclidean.loc[i][\"max_fringe_size\"] = max_fringe_size\n",
        "    \n",
        "    i = i+1\n",
        "    \n",
        "    \n",
        "  print(df_manhattan)\n",
        "  print(df_euclidean)\n",
        "  \n",
        "  width = 0.35   \n",
        "  plt.bar( n_trials + width, \"time\", width, data = df_euclidean, label = \"euclidean\")\n",
        "  plt.bar( n_trials, \"time\",width = 0.35,  data = df_manhattan, label = \"manhattan\" )\n",
        "  plt.legend(loc='best')\n",
        "  plt.ylabel(\"Execution time (in s)\")\n",
        "  plt.xlabel(\"Trial number\")\n",
        "  plt.show()\n",
        "  \n",
        "  width = 0.35   \n",
        "  plt.bar( n_trials + width, \"nodes_explored\", width, data = df_euclidean, label = \"euclidean\")\n",
        "  plt.bar( n_trials, \"nodes_explored\",width = 0.35,  data = df_manhattan, label = \"manhattan\" )\n",
        "  plt.legend(loc='best')\n",
        "  plt.ylabel(\"Nodes Explored\")\n",
        "  plt.xlabel(\"Trial number\")\n",
        "  plt.show()\n",
        "  \n",
        "  width = 0.35   \n",
        "  plt.bar( n_trials + width, \"max_fringe_size\", width, data = df_euclidean, label = \"euclidean\")\n",
        "  plt.bar( n_trials, \"max_fringe_size\",width = 0.35,  data = df_manhattan, label = \"manhattan\" )\n",
        "  plt.legend(loc='best')\n",
        "  plt.ylabel(\"Max Fringe Size\")\n",
        "  plt.xlabel(\"Trial number\")\n",
        "  plt.show()\n",
        "  "
      ],
      "execution_count": 0,
      "outputs": []
    },
    {
      "cell_type": "code",
      "metadata": {
        "id": "lokL07XzUhFn",
        "colab_type": "code",
        "colab": {
          "base_uri": "https://localhost:8080/",
          "height": 1000
        },
        "outputId": "dce9bd59-3b78-4437-beed-f6659419c0b6"
      },
      "source": [
        "dim = 150\n",
        "p = 0.2\n",
        "compare_A_star(dim, p)\n"
      ],
      "execution_count": 193,
      "outputs": [
        {
          "output_type": "stream",
          "text": [
            "  n_trials     time nodes_explored path_length max_fringe_size\n",
            "1        1   8.6488          10464         299             917\n",
            "2        2  11.1237          11902         299             968\n",
            "3        3   7.7629           9886         299             859\n",
            "4        4   8.5513          10332         299             848\n",
            "5        5   6.3444           8870         299             806\n",
            "  n_trials     time nodes_explored path_length max_fringe_size\n",
            "1        1   23.518          17938         299             144\n",
            "2        2  23.9677          17930         299             141\n",
            "3        3  24.0065          18011         299             149\n",
            "4        4  24.1758          17981         299             144\n",
            "5        5  23.8533          17910         299             135\n"
          ],
          "name": "stdout"
        },
        {
          "output_type": "display_data",
          "data": {
            "image/png": "[encoded data removed]",
            "text/plain": [
              "<Figure size 432x288 with 1 Axes>"
            ]
          },
          "metadata": {
            "tags": []
          }
        },
        {
          "output_type": "display_data",
          "data": {
            "image/png": "[encoded data removed]",
            "text/plain": [
              "<Figure size 432x288 with 1 Axes>"
            ]
          },
          "metadata": {
            "tags": []
          }
        },
        {
          "output_type": "display_data",
          "data": {
            "image/png": "[encoded data removed]",
            "text/plain": [
              "<Figure size 432x288 with 1 Axes>"
            ]
          },
          "metadata": {
            "tags": []
          }
        }
      ]
    },
    {
      "cell_type": "markdown",
      "metadata": {
        "id": "gCNpYPy4zDjP",
        "colab_type": "text"
      },
      "source": [
        "##2.8\n",
        "On the same map, are there ever nodes that BD-DFS expands that A\u0003 doesn't? Why or why not? Give an\n",
        "example, and justify."
      ]
    },
    {
      "cell_type": "code",
      "metadata": {
        "id": "oakJXh3oJoxY",
        "colab_type": "code",
        "outputId": "1088be39-8e20-45e3-ed7c-19741d15fe30",
        "colab": {
          "base_uri": "https://localhost:8080/",
          "height": 115
        }
      },
      "source": [
        "# 2.8 Show that BD-BFS expands node that A_star doesnot\n",
        "dim = 10\n",
        "p = 0.2\n",
        "start = (0,0)\n",
        "goal = (dim-1, dim-1)\n",
        "bfs_visited = []\n",
        "astar_visited = []\n",
        "\n",
        "print(\"Cells which are explored by BD-BFS and not by A_star for 5 such mazes: \")\n",
        "for n in range(5):\n",
        "            \n",
        "    maze = generate_maze(dim, p)\n",
        "            \n",
        "    is_goal_reached, prev_list, count_of_nodes, max_fringe_size, bfs_visited = BFS(maze, start, goal)\n",
        "    is_goal_reached, prev_list, count_of_nodes, max_fringe_size, astar_visited = A_star(maze, start, goal, \"manhattan\")\n",
        "    \n",
        "    diff = set(bfs_visited) - set(astar_visited)\n",
        "    print(diff)"
      ],
      "execution_count": 28,
      "outputs": [
        {
          "output_type": "stream",
          "text": [
            "Cells which are explored by BD-BFS and not by A_star for 5 such mazes: \n",
            "{(9, 0), (7, 0), (8, 0), (6, 0), (0, 7), (0, 6), (0, 9), (0, 3), (0, 8)}\n",
            "{(9, 0), (7, 0), (3, 0), (8, 0), (6, 0), (2, 0), (5, 0), (0, 9), (0, 8)}\n",
            "{(2, 9), (2, 8), (1, 5), (0, 6), (3, 9), (1, 6), (0, 5), (1, 8), (0, 4), (0, 9), (0, 8), (1, 7)}\n",
            "{(9, 0), (8, 3), (7, 0), (9, 1), (8, 2), (8, 1), (9, 2), (8, 0), (9, 3), (0, 7), (0, 6), (1, 8), (1, 9), (9, 4), (1, 7), (0, 9), (0, 8)}\n",
            "{(0, 9)}\n"
          ],
          "name": "stdout"
        }
      ]
    },
    {
      "cell_type": "markdown",
      "metadata": {
        "id": "NV4z5NARjTws",
        "colab_type": "text"
      },
      "source": [
        "##Bonus\n",
        "Bonus: How does the threshold probability p0 depend on dim? Be as precise as you can.\n",
        "2"
      ]
    },
    {
      "cell_type": "code",
      "metadata": {
        "id": "zD0Ic2dJjSXt",
        "colab_type": "code",
        "colab": {}
      },
      "source": [
        "def maze_solvability_p_bonus():\n",
        "    \n",
        "    #dim_range = np.arange(10,15,1)\n",
        "    dim_range = np.arange(50,250,50)\n",
        "    p_range = np.arange(0.1, 0.4, 0.1)  \n",
        "    \n",
        "    df = pd.DataFrame(index= dim_range,  columns = p_range)\n",
        "   \n",
        "    \n",
        "    for dim in dim_range:\n",
        "      \n",
        "      print(\"dim = \", dim)\n",
        "      n_trials = 50\n",
        "      goal = (dim-1, dim-1)\n",
        "      percent_solvable = []\n",
        "\n",
        "      for p in p_range:\n",
        "\n",
        "         \n",
        "          success = 0\n",
        "\n",
        "          for i in range(n_trials):\n",
        "\n",
        "              maze = generate_maze(dim, p)\n",
        "              is_goal_reached, prev_list, count_of_nodes, max_fringe_size  = improved_DFS(maze, start, goal)\n",
        "\n",
        "              if(is_goal_reached):\n",
        "                  success = success + 1\n",
        "                  \n",
        "          df.loc[dim][p] = (success/n_trials)*100\n",
        "#           percent_solvable.append((success/n_trials)*100)\n",
        "        \n",
        "\n",
        "    \n",
        "    print(df)\n",
        "    \n",
        "    \n",
        "    \n",
        "    #colors = ['rosybrown','firebrick' , 'violet', 'cyan', 'darkslategrey']\n",
        "    colors = [\"purple\", 'olive', 'red', 'cyan']\n",
        "    plot_legend_label = \"dim \"\n",
        "    plot_legend_value = dim_range\n",
        "    \n",
        "    for i in range(df.shape[0]):\n",
        "      plt.plot(df.iloc[i].index, df.iloc[i].values,\n",
        "      label= plot_legend_label+\"=%d\"%(plot_legend_value[i]), \n",
        "               marker='o', color=colors[i])\n",
        "      \n",
        "      plt.legend()\n",
        "    \n",
        "    plt.xlabel('p')\n",
        "    plt.ylabel('Success Percent')\n",
        "    plt.xticks(p_range)\n",
        "    #plt.title(\"Dimension vs time for p = \"+ str(p)+ \", #trials = \" + str(n_trials))\n",
        "    plt.show()\n",
        "    \n",
        "    \n",
        "\n",
        "\n",
        "\n"
      ],
      "execution_count": 0,
      "outputs": []
    },
    {
      "cell_type": "code",
      "metadata": {
        "id": "Vvc6dMOSmJ9y",
        "colab_type": "code",
        "colab": {
          "base_uri": "https://localhost:8080/",
          "height": 439
        },
        "outputId": "02ff566a-0dd6-4781-e12d-d10d78530a1e"
      },
      "source": [
        "dim = 10\n",
        "start = (0,0)\n",
        "maze_solvability_p_bonus()\n"
      ],
      "execution_count": 254,
      "outputs": [
        {
          "output_type": "stream",
          "text": [
            "dim =  50\n",
            "dim =  100\n",
            "dim =  150\n",
            "dim =  200\n",
            "    0.1 0.2 0.3 0.4\n",
            "50   98  90  52   6\n",
            "100  98  84  56   2\n",
            "150  96  88  50   2\n",
            "200  98  78  46   0\n"
          ],
          "name": "stdout"
        },
        {
          "output_type": "display_data",
          "data": {
            "image/png": "[encoded data removed]",
            "text/plain": [
              "<Figure size 432x288 with 1 Axes>"
            ]
          },
          "metadata": {
            "tags": []
          }
        }
      ]
    }
  ]
}