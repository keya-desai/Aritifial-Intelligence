{
  "nbformat": 4,
  "nbformat_minor": 0,
  "metadata": {
    "colab": {
      "name": "AI_HardMaze.ipynb",
      "provenance": [],
      "collapsed_sections": []
    },
    "kernelspec": {
      "name": "python3",
      "display_name": "Python 3"
    }
  },
  "cells": [
    {
      "cell_type": "code",
      "metadata": {
        "id": "u-VFgKWS-CuB",
        "colab_type": "code",
        "colab": {}
      },
      "source": [
        "# Import libraries\n",
        "\n",
        "import numpy as np\n",
        "import random as rand\n",
        "import matplotlib.pyplot as plt\n",
        "import seaborn as sns\n",
        "import math\n",
        "import queue as Q\n",
        "from matplotlib.colors import ListedColormap\n",
        "import time\n",
        "import pprint as pp\n",
        "import pandas as pd\n",
        "from operator import itemgetter"
      ],
      "execution_count": 0,
      "outputs": []
    },
    {
      "cell_type": "code",
      "metadata": {
        "id": "BQpGbrlN-SCL",
        "colab_type": "code",
        "colab": {}
      },
      "source": [
        "# Function to generate a maze with given dimension and p as the probability of cell being blocked.\n",
        "\n",
        "def generate_maze(dim = 10, p = 0.4):\n",
        "    \n",
        "    rows = dim\n",
        "    cols = dim\n",
        "    mat = np.ones((dim,dim), dtype=int)\n",
        "    \n",
        "    for i in range(rows):\n",
        "        for j in range(cols):\n",
        "            if( rand.uniform(0,1) < p ):    ##if random number is greater than 0.4, it is occupied\n",
        "                mat[i][j] = 0\n",
        "    \n",
        "    mat[0][0] = 1\n",
        "    mat[dim-1][dim-1] = 1\n",
        "    \n",
        "    return mat "
      ],
      "execution_count": 0,
      "outputs": []
    },
    {
      "cell_type": "code",
      "metadata": {
        "id": "Hq3NGZ_O-VZe",
        "colab_type": "code",
        "colab": {}
      },
      "source": [
        "def check_child_validity(maze,vertex,visited):\n",
        "    \n",
        "    dim = maze.shape[0] \n",
        "\n",
        "    # If dimensions are in the range\n",
        "    if vertex[0]==-1 or vertex[1]==-1 or vertex[0]==dim or vertex[1]==dim:\n",
        "        return False\n",
        "    # If node is closed\n",
        "    elif maze[vertex[0],vertex[1]]==0 or vertex in visited:\n",
        "        return False\n",
        "    else:\n",
        "        return True # Valid child"
      ],
      "execution_count": 0,
      "outputs": []
    },
    {
      "cell_type": "code",
      "metadata": {
        "id": "tpWcIE1m-mGv",
        "colab_type": "code",
        "colab": {}
      },
      "source": [
        "def create_child_nodes(maze,visited,x,y):\n",
        "  \n",
        "  children = []\n",
        "  \n",
        "  node1 = (x+1,y)\n",
        "  if(check_child_validity(maze,node1, visited)):\n",
        "    children.append(node1)\n",
        "                \n",
        "  node2 = (x,y+1)\n",
        "  if(check_child_validity(maze,node2, visited)):\n",
        "    children.append(node2)\n",
        "\n",
        "  node3 = (x-1,y)\n",
        "  if(check_child_validity(maze,node3, visited)):\n",
        "    children.append(node3)\n",
        "\n",
        "  node4 = (x,y-1)\n",
        "  if(check_child_validity(maze,node4, visited)):\n",
        "    children.append(node4)\n",
        "  \n",
        "  return children"
      ],
      "execution_count": 0,
      "outputs": []
    },
    {
      "cell_type": "code",
      "metadata": {
        "id": "WbepzNCB-pNG",
        "colab_type": "code",
        "colab": {}
      },
      "source": [
        "def A_star_heuristic(maze, h, goal, heuristic):\n",
        "    \n",
        "    dim = maze.shape[0]\n",
        "    \n",
        "    for i in range(dim):\n",
        "        for j in range(dim): \n",
        "            if(heuristic == \"manhattan\"):\n",
        "                h[i][j] = ( abs(goal[0]-i) + abs(goal[1]-j) )\n",
        "\n",
        "            if(heuristic == \"euclidean\"):\n",
        "                h[i][j] = math.sqrt( (goal[0] - i)**2 + (goal[1]-j)**2 ) \n",
        "    "
      ],
      "execution_count": 0,
      "outputs": []
    },
    {
      "cell_type": "code",
      "metadata": {
        "id": "V3j6M1-iEuR8",
        "colab_type": "code",
        "colab": {}
      },
      "source": [
        "def A_star(maze, start, goal, heuristic):\n",
        "    \n",
        "    dim = goal[0] + 1\n",
        "    h = np.zeros((dim, dim))\n",
        "    g = np.zeros((dim,dim))\n",
        "    f = np.zeros((dim,dim))\n",
        "    \n",
        "    g[start] = 0\n",
        "    A_star_heuristic( maze, h, goal, heuristic)\n",
        "    f = g + h \n",
        "    \n",
        "    visited = []\n",
        "    prev_list = {} \n",
        "    \n",
        "    count_of_nodes = 0\n",
        "    max_fringe_size = 0\n",
        "    \n",
        "    fringe = Q.PriorityQueue()\n",
        "    fringe.put((f[start], start))\n",
        "    \n",
        "    while not (fringe.empty()):\n",
        "        \n",
        "\n",
        "        vertex = fringe.get()[1]\n",
        "        count_of_nodes+=1\n",
        "        max_fringe_size = max( max_fringe_size, fringe.qsize() )\n",
        "        visited.append(vertex)\n",
        "        \n",
        "        if vertex == goal:\n",
        "            return 1, prev_list, count_of_nodes, max_fringe_size, visited\n",
        "        \n",
        "        i = vertex[0]\n",
        "        j = vertex[1] \n",
        "\n",
        "        # Generating and adding child nodes in fringe \n",
        "        child = create_child_nodes(maze,visited,i,j)\n",
        "        if child:\n",
        "            for c in child:\n",
        "                prev_list[c] = vertex\n",
        "                visited.append(c)\n",
        "                g[c] = g[vertex] + 1\n",
        "                f[c] = g[c] + h[c]\n",
        "                fringe.put((f[c], c))\n",
        "    \n",
        "\n",
        "    return 0, prev_list, count_of_nodes, max_fringe_size, visited  # No path found"
      ],
      "execution_count": 0,
      "outputs": []
    },
    {
      "cell_type": "code",
      "metadata": {
        "id": "OXZ6wS4o-vsh",
        "colab_type": "code",
        "colab": {}
      },
      "source": [
        "def display_path(maze_temp, prev_list, start, goal):\n",
        "  \n",
        "    prev_node = goal\n",
        "    path = [prev_node]\n",
        "    maze_temp[prev_node] = 25\n",
        "    \n",
        "    # Backtracks from last node using prev_list\n",
        "    if bool(prev_list):\n",
        "      while(prev_list[prev_node] != start):\n",
        "        current_node = prev_node\n",
        "        prev_node = prev_list[(current_node)]\n",
        "        path.append(prev_node)\n",
        "        maze_temp[prev_node] = 50\n",
        "        \n",
        "      path.append(prev_list[prev_node])\n",
        "      path.reverse()\n",
        "      maze_temp[prev_list[prev_node]] = 25\n",
        "      \n",
        "      path_length = len(path)\n",
        "      \n",
        "      # Plotting the path in the maze\n",
        "      plt.figure(figsize=(15,15))\n",
        "      sns.heatmap(maze_temp, cmap=ListedColormap(['black', 'green', 'crimson', 'papayawhip']), linewidths=.5, square = True, cbar=False, xticklabels=False, yticklabels=False)\n",
        "      plt.show()\n",
        "      \n",
        "      return path_length"
      ],
      "execution_count": 0,
      "outputs": []
    },
    {
      "cell_type": "code",
      "metadata": {
        "id": "UYyw_k-b-1I7",
        "colab_type": "code",
        "colab": {}
      },
      "source": [
        "def path_length(goal, prev_list, start):\n",
        "    \n",
        "    prev_node = goal\n",
        "    path = [prev_node]\n",
        "    path_len = 0\n",
        "    \n",
        "    # Backtracks from last node using prev_list\n",
        "    if bool(prev_list):\n",
        "        while(prev_node in prev_list.keys() and prev_list[prev_node] != start):\n",
        "            current_node = prev_node\n",
        "            prev_node = prev_list[(current_node)]\n",
        "            path.append(prev_node)\n",
        "        \n",
        "        path.append(prev_list[prev_node])\n",
        "        path.reverse()\n",
        "        path_len = len(path)\n",
        "    \n",
        "    return path_len, path"
      ],
      "execution_count": 0,
      "outputs": []
    },
    {
      "cell_type": "code",
      "metadata": {
        "id": "-HXhEZxk_ca5",
        "colab_type": "code",
        "colab": {}
      },
      "source": [
        "def solve_maze():\n",
        "  \n",
        "    path_length = 0\n",
        "    \n",
        "    ## LIST of fators ##\n",
        "    algo_list = [ \"A_Mahnattan\"]\n",
        "    factor_list = [\"path_length\", \"time\", \"nodes_explored\", \"max_fringe_size\"] \n",
        "    df = pd.DataFrame(columns= factor_list, index=algo_list)\n",
        "\n",
        "    maze = generate_maze(dim, p)\n",
        "  \n",
        "    ##  A* - MANHATTAN  ##\n",
        "    print(\" \\n ---------A* -Manhattan---------\")\n",
        "    start_time = time.time()\n",
        "    is_goal_reached, prev_list, count_of_nodes, max_fringe_size, visited = A_star(maze, start, goal, \"manhattan\")\n",
        "    current_time = round(time.time() - start_time, 4)\n",
        "    \n",
        "    if(is_goal_reached):\n",
        "        print(\"Goal Reached\")\n",
        "        maze_temp = maze*100\n",
        "        path_length = display_path(maze_temp,prev_list,start,goal)\n",
        "    else:\n",
        "        print(\"No path found\")\n",
        "\n",
        "    df.loc[\"A_Mahnattan\"][\"time\"] = current_time\n",
        "    df.loc[\"A_Mahnattan\"][\"nodes_explored\"] = count_of_nodes\n",
        "    df.loc[\"A_Mahnattan\"][\"path_length\"] = path_length\n",
        "    df.loc[\"A_Mahnattan\"][\"max_fringe_size\"] = max_fringe_size\n",
        "  \n",
        "    \n",
        "    print(df)\n"
      ],
      "execution_count": 0,
      "outputs": []
    },
    {
      "cell_type": "code",
      "metadata": {
        "id": "F0zjt408io23",
        "colab_type": "code",
        "colab": {}
      },
      "source": [
        "def visualise_maze(maze):\n",
        "#   plt.figure(figsize=(15,15))\n",
        "  ax = sns.heatmap(maze, linewidths=.5,square = True, cbar=False, xticklabels=False, yticklabels=False)\n",
        "  plt.show()"
      ],
      "execution_count": 0,
      "outputs": []
    },
    {
      "cell_type": "code",
      "metadata": {
        "id": "uE4_1wSaAazh",
        "colab_type": "code",
        "colab": {}
      },
      "source": [
        "dim = 50\n",
        "p = 0.2\n",
        "start = (0,0)\n",
        "goal = (dim-1,dim-1)"
      ],
      "execution_count": 0,
      "outputs": []
    },
    {
      "cell_type": "code",
      "metadata": {
        "id": "44dMWwd9y_Wq",
        "colab_type": "code",
        "colab": {
          "base_uri": "https://localhost:8080/",
          "height": 947
        },
        "outputId": "2b9a154b-0cc9-443b-c23b-f3bc7faa2a0a"
      },
      "source": [
        "solve_maze()"
      ],
      "execution_count": 61,
      "outputs": [
        {
          "output_type": "stream",
          "text": [
            " \n",
            " ---------A* -Manhattan---------\n",
            "Goal Reached\n"
          ],
          "name": "stdout"
        },
        {
          "output_type": "display_data",
          "data": {
            "image/png": "[encoded data removed]",
            "text/plain": [
              "<Figure size 1080x1080 with 1 Axes>"
            ]
          },
          "metadata": {
            "tags": []
          }
        },
        {
          "output_type": "stream",
          "text": [
            "            path_length    time nodes_explored max_fringe_size\n",
            "A_Mahnattan          99  0.1903           1369             173\n"
          ],
          "name": "stdout"
        }
      ]
    },
    {
      "cell_type": "markdown",
      "metadata": {
        "id": "Hg88WW3ODDZS",
        "colab_type": "text"
      },
      "source": [
        "##Genetic Algorithm: "
      ]
    },
    {
      "cell_type": "code",
      "metadata": {
        "id": "UPnxY5liAmdG",
        "colab_type": "code",
        "colab": {}
      },
      "source": [
        "# Generate initial population:\n",
        "def generate_initial_population(population_size):\n",
        "    \n",
        "    population = []\n",
        "    for i in range(population_size):\n",
        "        maze = generate_maze(dim, p)\n",
        "        population.append(maze)\n",
        "    return population"
      ],
      "execution_count": 0,
      "outputs": []
    },
    {
      "cell_type": "code",
      "metadata": {
        "id": "1bE8K-Y4KZnN",
        "colab_type": "code",
        "colab": {}
      },
      "source": [
        "def fitting_function(population_maze):\n",
        "  \n",
        "      goal = (dim-1, dim-1)\n",
        "      start = (0,0)\n",
        "      population_fitness = []\n",
        "      \n",
        "      for i in range(len(population_maze)):\n",
        "        \n",
        "        maze = population_maze[i]\n",
        "        is_goal_reached, prev_list, count_of_nodes, max_fringe_size, visited = A_star(maze, start, goal, \"manhattan\")\n",
        "        \n",
        "        if(is_goal_reached):\n",
        "          \n",
        "          shortest_path_length, path = path_length(goal, prev_list, start)\n",
        "          fitness = shortest_path_length   # Here fitting function depends on only one parameter\n",
        "        else:\n",
        "          fitness = 0\n",
        "          \n",
        "        population_fitness.append((maze,fitness))\n",
        "      \n",
        "      return population_fitness "
      ],
      "execution_count": 0,
      "outputs": []
    },
    {
      "cell_type": "code",
      "metadata": {
        "id": "WvqRFOENM7OT",
        "colab_type": "code",
        "colab": {}
      },
      "source": [
        "def single_point_crossover(maze_1, maze_2, alpha):\n",
        "\n",
        "  dim = maze_1.shape[0]\n",
        "  child1_maze = np.zeros((dim, dim))\n",
        "  child2_maze = np.zeros((dim, dim))\n",
        "  \n",
        "  break_point = math.ceil(alpha * dim) # To determine the column value for breakpoint\n",
        "  \n",
        "  child1_maze[0:dim, 0:break_point] = maze_1[0:dim, 0:break_point]\n",
        "  child1_maze[0:dim, break_point:dim] = maze_2[0:dim, break_point:dim]\n",
        "  \n",
        "  break_point = dim - break_point    #To increase the proportion of the fitter parent\n",
        "  child2_maze[0:dim, 0:break_point] = maze_2[0:dim, 0:break_point]\n",
        "  child2_maze[0:dim, break_point:dim] = maze_1[0:dim, break_point:dim]\n",
        "  \n",
        "  return child1_maze, child2_maze"
      ],
      "execution_count": 0,
      "outputs": []
    },
    {
      "cell_type": "code",
      "metadata": {
        "id": "VaDDSQRdUc7R",
        "colab_type": "code",
        "colab": {}
      },
      "source": [
        "def two_point_crossover(maze_1, maze_2, alpha_1, alpha_2):\n",
        "\n",
        "  dim = maze_1.shape[0]\n",
        "  child1_maze = np.zeros((dim, dim))\n",
        "  child2_maze = np.zeros((dim, dim))\n",
        "  \n",
        "  break_point_1 = math.ceil(alpha_1 * dim)\n",
        "  break_point_2 = math.ceil(alpha_2 * dim)\n",
        "  \n",
        "  \n",
        "  child1_maze[0:dim, 0:break_point_1] = maze_1[0:dim, 0:break_point_1]\n",
        "  child1_maze[0:dim, break_point_1:break_point_2] = maze_2[0:dim, break_point_1:break_point_2]\n",
        "  child1_maze[0:dim, break_point_2:dim] = maze_1[0:dim, break_point_2:dim]\n",
        "  \n",
        "  child2_maze[0:dim, 0:break_point_1] = maze_2[0:dim, 0:break_point_1]\n",
        "  child2_maze[0:dim, break_point_1:break_point_2] = maze_1[0:dim, break_point_1:break_point_2]\n",
        "  child2_maze[0:dim, break_point_2:dim] = maze_2[0:dim, break_point_2:dim]\n",
        "  \n",
        "  return child1_maze, child2_maze"
      ],
      "execution_count": 0,
      "outputs": []
    },
    {
      "cell_type": "code",
      "metadata": {
        "id": "Q6skRLB-vVdG",
        "colab_type": "code",
        "colab": {}
      },
      "source": [
        "def uniform_crossover(maze_1,maze_2,alpha):\n",
        "    \n",
        "    dim = maze_1.shape[0]\n",
        "    child1_maze = np.zeros((dim, dim))\n",
        "    child2_maze = np.zeros((dim, dim))\n",
        "    \n",
        "    for i in range(dim):\n",
        "        ra = rand.random()\n",
        "        if ra<=alpha :   # This more gives probability to fitter parent\n",
        "            child1_maze[0:dim,i] = maze_1[0:dim,i]\n",
        "            child2_maze[0:dim,i] = maze_2[0:dim,i]\n",
        "        else:\n",
        "            child1_maze[0:dim,i] = maze_2[0:dim,i]\n",
        "            child2_maze[0:dim,i] = maze_1[0:dim,i]\n",
        "    \n",
        "    return child1_maze, child2_maze"
      ],
      "execution_count": 0,
      "outputs": []
    },
    {
      "cell_type": "markdown",
      "metadata": {
        "id": "GdRwVG141gAI",
        "colab_type": "text"
      },
      "source": [
        "### Select parents based on fitness"
      ]
    },
    {
      "cell_type": "code",
      "metadata": {
        "id": "lBIMxsKo1oju",
        "colab_type": "code",
        "colab": {}
      },
      "source": [
        "def select_parents(population, num_parents):\n",
        "\n",
        "    sorted(population, key = itemgetter(1))\n",
        "    n = len(population)\n",
        "    sum = 1*(1.1**(n)-1)/0.1\n",
        "    \n",
        "    cdf = []\n",
        "    num = 0\n",
        "    for i in range(n):\n",
        "        num += 1.1**i\n",
        "        cdf.append(num/sum)\n",
        "    \n",
        "    selected_parents_ind = []\n",
        "    \n",
        "    for k in range(num_parents):\n",
        "        while True:  \n",
        "            ra = rand.random()\n",
        "            i = 0\n",
        "            while(ra>cdf[i]):\n",
        "                i += 1\n",
        "            if i not in selected_parents_ind:\n",
        "                selected_parents_ind.append(i)\n",
        "                break\n",
        "    selected_parents_ind.sort()\n",
        "    \n",
        "    selected_parents = []\n",
        "    for i in selected_parents_ind:\n",
        "      selected_parents.append(population[i])\n",
        "\n",
        "    return selected_parents"
      ],
      "execution_count": 0,
      "outputs": []
    },
    {
      "cell_type": "markdown",
      "metadata": {
        "id": "aKG8q3mK17OP",
        "colab_type": "text"
      },
      "source": [
        "###Pair parents for crossover"
      ]
    },
    {
      "cell_type": "code",
      "metadata": {
        "id": "R4wKGxTQ17qw",
        "colab_type": "code",
        "colab": {}
      },
      "source": [
        "def generate_pairs(num_children, selected_parents):\n",
        "\n",
        "    num_parents = 20\n",
        "    \n",
        "    a = []\n",
        "    \n",
        "    for i in range(num_parents):\n",
        "        a.append(0)\n",
        "\n",
        "    selected_parents = sorted(selected_parents, key = itemgetter(1))\n",
        "   \n",
        "    n = len(selected_parents)\n",
        "    sum = 1*(1.1**(n)-1)/0.1\n",
        "    \n",
        "    cdf = []\n",
        "    num = 0\n",
        "    for i in range(n):\n",
        "        num += 1.1**i\n",
        "        cdf.append(num/sum)\n",
        "    \n",
        "\n",
        "    for k in range(num_children):\n",
        "        ra = rand.random()\n",
        "        i = 0\n",
        "        while(ra>cdf[i]):\n",
        "            i += 1\n",
        "        a[i] += 1\n",
        "\n",
        "    parents = []\n",
        "\n",
        "    for i in range(len(a)):\n",
        "        while a[i] > 0:\n",
        "            parents.append(i)\n",
        "            a[i] -= 1\n",
        "\n",
        "    pairs = []\n",
        "    while parents:\n",
        "        i = parents.pop()\n",
        "        for iter in range(len(parents)*5):\n",
        "            j = parents[int(rand.uniform(0,len(parents)))]\n",
        "            if j != i:\n",
        "                parents.remove(j)\n",
        "                break\n",
        "        if i == j:\n",
        "          parents.remove(j)\n",
        "        pairs.append((i,j))\n",
        "    \n",
        "    return pairs"
      ],
      "execution_count": 0,
      "outputs": []
    },
    {
      "cell_type": "code",
      "metadata": {
        "id": "XBLDrYRJso8r",
        "colab_type": "code",
        "colab": {}
      },
      "source": [
        "def mutate_child(child_list):\n",
        "    \n",
        "    cells = child_list[0].size\n",
        "    mutate_count = math.floor(0.1 * cells)\n",
        "    for child in child_list:\n",
        "        counter = 0\n",
        "        while(counter!=mutate_count):\n",
        "            i = rand.randint(0,dim-1)\n",
        "            j = rand.randint(0,dim-1)\n",
        "            \n",
        "            # Addition of obstacle\n",
        "            if(child[i,j] == 1 and (i,j) != (0,0) and (i,j) != (dim-1,dim-1)):\n",
        "                child[i,j] = 0\n",
        "                counter = counter + 1\n",
        "            \n",
        "            # Deletion of obstacle\n",
        "            elif(child[i,j] == 0):\n",
        "                child[i,j] = 1\n",
        "                counter = counter + 1\n",
        "                \n",
        "    return child_list       "
      ],
      "execution_count": 0,
      "outputs": []
    },
    {
      "cell_type": "code",
      "metadata": {
        "id": "CVwhYWAvisOr",
        "colab_type": "code",
        "colab": {}
      },
      "source": [
        "def generate_children(pairs, parents, alpha1, alpha2, crossover_method):\n",
        "  \n",
        "  children = []\n",
        "  \n",
        "  for pair in pairs:\n",
        "    \n",
        "    if crossover_method == \"two_point_crossover\":\n",
        "      child_1, child_2 = two_point_crossover((parents[pair[0]])[0],(parents[pair[1]])[0], alpha1, alpha2)\n",
        "    \n",
        "    elif crossover_method == \"single_point_crossover\":\n",
        "      child_1, child_2 = single_point_crossover((parents[pair[0]])[0],(parents[pair[1]])[0], alpha1)\n",
        "    \n",
        "    else:\n",
        "      child_1, child_2 = uniform_crossover((parents[pair[0]])[0],(parents[pair[1]])[0], alpha1)\n",
        "    \n",
        "    children.append(child_1)\n",
        "    children.append(child_2)\n",
        "    \n",
        "  mutated_children = mutate_child(children)\n",
        "  return mutated_children"
      ],
      "execution_count": 0,
      "outputs": []
    },
    {
      "cell_type": "markdown",
      "metadata": {
        "id": "_uOc38pI2PfK",
        "colab_type": "text"
      },
      "source": [
        "### Select new population based on fitness"
      ]
    },
    {
      "cell_type": "code",
      "metadata": {
        "id": "vkQqoytV2P3y",
        "colab_type": "code",
        "colab": {}
      },
      "source": [
        "def selection(initial_population, population_size):\n",
        "\n",
        "    initial_population = sorted(initial_population, key = itemgetter(1))\n",
        "    n = len(initial_population)\n",
        "    sum = 1*(1.1**(n)-1)/0.1\n",
        "    \n",
        "    cdf = []\n",
        "    num = 0\n",
        "    for i in range(n):\n",
        "        num += 1.1**i\n",
        "        cdf.append(num/sum)\n",
        "    \n",
        "    \n",
        "    new_population = []\n",
        "    \n",
        "    for k in range(population_size):\n",
        "        while True:  \n",
        "            ra = rand.random()\n",
        "            i = 0\n",
        "            while(ra>cdf[i]):\n",
        "                i += 1\n",
        "            if i not in new_population:\n",
        "                new_population.append(i)\n",
        "                break\n",
        "    new_population.sort()\n",
        "    \n",
        "    population = []\n",
        "    \n",
        "    for i in new_population:\n",
        "      population.append(initial_population[i])\n",
        "      \n",
        "    return population"
      ],
      "execution_count": 0,
      "outputs": []
    },
    {
      "cell_type": "markdown",
      "metadata": {
        "id": "hRwB3nQG2ibp",
        "colab_type": "text"
      },
      "source": [
        "## Main code of Genetic Algo"
      ]
    },
    {
      "cell_type": "code",
      "metadata": {
        "id": "36vSKGLjvhqV",
        "colab_type": "code",
        "colab": {}
      },
      "source": [
        "def genetic_algo(population_size, dim, num_generations, num_parents, num_children, crossover_method):\n",
        "  \n",
        "  population_maze = generate_initial_population(population_size)\n",
        "  population = fitting_function(population_maze)         \n",
        "  population = sorted(population, key = itemgetter(1))\n",
        "  \n",
        "  count = 0\n",
        "  maze = population[len(population)-1][0]\n",
        "  og_fitness = population[len(population) - 1][1]\n",
        "  fitness_of_generation = [og_fitness]\n",
        "  \n",
        "  while count < num_generations:\n",
        "    \n",
        "    # Selection of parents from population\n",
        "    parents = select_parents(population, num_parents) \n",
        "    \n",
        "    # Generate pairs of parents for breeding\n",
        "    pairs = generate_pairs(num_children, parents)\n",
        "    \n",
        "    # Generate child from pairs of parents\n",
        "    child_list = generate_children(pairs, parents, 0.6, 0.2,crossover_method)\n",
        "    child_fitness = fitting_function(child_list)\n",
        "    population.extend(child_fitness)\n",
        "    \n",
        "    # Population pruning\n",
        "    population = selection(population, population_size)\n",
        "    population = sorted(population, key = itemgetter(1))\n",
        "    \n",
        "    fitness_of_hardest_maze = population[len(population) - 1][1]\n",
        "    \n",
        "    fitness_of_generation.append(fitness_of_hardest_maze)\n",
        "    count += 1\n",
        "    \n",
        "    # Terminating condition\n",
        "    if fitness_of_hardest_maze > 5*og_fitness:\n",
        "      break\n",
        "\n",
        "  return population[len(population)-1], fitness_of_generation  "
      ],
      "execution_count": 0,
      "outputs": []
    },
    {
      "cell_type": "code",
      "metadata": {
        "id": "cum9TRMWzp3Y",
        "colab_type": "code",
        "colab": {}
      },
      "source": [
        "def multiple_ga(dim,num_iterations, num_generations, num_parents, num_children, crossover_method):\n",
        "  \n",
        "  difference = []\n",
        "  max_fitness = []\n",
        "  original_fitness = []\n",
        "  hardest_maze = (generate_maze(dim,p),0)\n",
        "  \n",
        "  is_goal_reached, prev_list, count_of_nodes, max_fringe_size, visited = A_star(hardest_maze[0]*100, start, goal, \"manhattan\")\n",
        "  \n",
        "  maze_temp = hardest_maze[0]*100\n",
        "  hard_maze = hardest_maze\n",
        "  \n",
        "  for i in range(num_iterations):\n",
        "   \n",
        "    hard_maze, y = genetic_algo(population_size, dim, num_generations, num_parents, num_children, crossover_method)\n",
        "    print(\"Cost of hardest maze at iteration \" + str(i) + \": \" + str(hard_maze[1]))\n",
        "    if hard_maze[1] > hardest_maze[1]:\n",
        "      hardest_maze = hard_maze\n",
        "    max_fitness.append(y[len(y)-1])\n",
        "    original_fitness.append(y[0])\n",
        "    diff = ((y[len(y)-1]-y[0])/y[0])*100\n",
        "    difference.append(diff)\n",
        "   \n",
        "  print(\"Cost of final hardest maze is : \" + str(hardest_maze[1]))\n",
        "  return hardest_maze, difference"
      ],
      "execution_count": 0,
      "outputs": []
    },
    {
      "cell_type": "code",
      "metadata": {
        "id": "jHPSliX_0eIH",
        "colab_type": "code",
        "colab": {}
      },
      "source": [
        "def plot_difference(difference):\n",
        "  \n",
        "  x = np.arange(0,len(difference))\n",
        "  sns.set(style=\"whitegrid\", color_codes=True)\n",
        "  sns.barplot(x, difference)\n",
        "  plt.xlabel(\"Trial #\")\n",
        "  plt.ylabel(\"Cost difference\")\n",
        "  plt.title(\"Cost difference between initial and final generations for multiple trials\")"
      ],
      "execution_count": 0,
      "outputs": []
    },
    {
      "cell_type": "code",
      "metadata": {
        "id": "nVqR2V72CR8c",
        "colab_type": "code",
        "colab": {}
      },
      "source": [
        "population_size = 50\n",
        "num_generations = 100\n",
        "num_parents = 20\n",
        "num_children = 50\n",
        "dim = 30 #50\n",
        "num_of_iterations = 10 #20"
      ],
      "execution_count": 0,
      "outputs": []
    },
    {
      "cell_type": "code",
      "metadata": {
        "id": "jHfuAhBFIByJ",
        "colab_type": "code",
        "colab": {
          "base_uri": "https://localhost:8080/",
          "height": 390
        },
        "outputId": "922a5d54-abaf-407d-da93-fd2f4385b244"
      },
      "source": [
        "# Test for fitness function as shortest_path_length\n",
        "hardest_maze, difference_list = multiple_ga(dim, num_of_iterations, num_generations, num_parents, num_children)"
      ],
      "execution_count": 125,
      "outputs": [
        {
          "output_type": "stream",
          "text": [
            "Iteration: 0\n",
            "Cost of hardest maze at iteration 0: 138.44\n",
            "Iteration: 1\n",
            "Cost of hardest maze at iteration 1: 123.80000000000001\n",
            "Iteration: 2\n",
            "Cost of hardest maze at iteration 2: 125.00000000000001\n",
            "Iteration: 3\n",
            "Cost of hardest maze at iteration 3: 142.48\n",
            "Iteration: 4\n",
            "Cost of hardest maze at iteration 4: 123.4\n",
            "Iteration: 5\n",
            "Cost of hardest maze at iteration 5: 122.0\n",
            "Iteration: 6\n",
            "Cost of hardest maze at iteration 6: 154.88\n",
            "Iteration: 7\n",
            "Cost of hardest maze at iteration 7: 135.24\n",
            "Iteration: 8\n",
            "Cost of hardest maze at iteration 8: 126.04\n",
            "Iteration: 9\n",
            "Cost of hardest maze at iteration 9: 144.24\n",
            "Cost of final hardest maze is : 154.88\n"
          ],
          "name": "stdout"
        }
      ]
    },
    {
      "cell_type": "code",
      "metadata": {
        "id": "PiTKf1eD44hK",
        "colab_type": "code",
        "colab": {
          "base_uri": "https://localhost:8080/",
          "height": 301
        },
        "outputId": "35c0db90-c23d-4567-ffb4-8a668f381cb0"
      },
      "source": [
        "plot_difference(difference_list)"
      ],
      "execution_count": 126,
      "outputs": [
        {
          "output_type": "display_data",
          "data": {
            "image/png": "[encoded data removed]",
            "text/plain": [
              "<Figure size 432x288 with 1 Axes>"
            ]
          },
          "metadata": {
            "tags": []
          }
        }
      ]
    },
    {
      "cell_type": "code",
      "metadata": {
        "id": "FwzvWUBcaJw3",
        "colab_type": "code",
        "colab": {
          "base_uri": "https://localhost:8080/",
          "height": 195
        },
        "outputId": "a65f8bc1-fd12-4ca8-9822-f3055d96e913"
      },
      "source": [
        "difference_list"
      ],
      "execution_count": 127,
      "outputs": [
        {
          "output_type": "execute_result",
          "data": {
            "text/plain": [
              "[50.02167316861724,\n",
              " 41.00227790432801,\n",
              " 41.01985559566786,\n",
              " 61.76203451407808,\n",
              " 42.82407407407407,\n",
              " 38.071525577184225,\n",
              " 72.7029438001784,\n",
              " 57.036692986530426,\n",
              " 44.012797074954285,\n",
              " 62.72563176895305]"
            ]
          },
          "metadata": {
            "tags": []
          },
          "execution_count": 127
        }
      ]
    },
    {
      "cell_type": "markdown",
      "metadata": {
        "id": "P33b4MczcCtV",
        "colab_type": "text"
      },
      "source": [
        "### Using two-point crossover method:\n"
      ]
    },
    {
      "cell_type": "code",
      "metadata": {
        "id": "mocd8728xVHd",
        "colab_type": "code",
        "colab": {}
      },
      "source": [
        "population_size = 50\n",
        "num_generations = 100\n",
        "num_parents = 20\n",
        "num_children = 50\n",
        "dim = 50\n",
        "num_of_iterations = 10"
      ],
      "execution_count": 0,
      "outputs": []
    },
    {
      "cell_type": "code",
      "metadata": {
        "id": "N0Wesx6_cBMC",
        "colab_type": "code",
        "colab": {
          "base_uri": "https://localhost:8080/",
          "height": 1000
        },
        "outputId": "f80e38df-c44e-48cc-ff01-45749318fbda"
      },
      "source": [
        "hardest_maze_two_point, difference_list_two_point = multiple_ga(dim, num_of_iterations, num_generations, num_parents, num_children, \"two_point_crossover\")\n",
        "is_goal_reached, prev_list, count_of_nodes, max_fringe_size, visited = A_star(hardest_maze_two_point[0], start, goal, \"manhattan\")\n",
        "maze_temp = hardest_maze_two_point[0]*100\n",
        "display_path(maze_temp, prev_list, start, goal)"
      ],
      "execution_count": 136,
      "outputs": [
        {
          "output_type": "stream",
          "text": [
            "Cost of hardest maze at iteration 0: 198.24\n",
            "Cost of hardest maze at iteration 1: 224.64000000000001\n",
            "Cost of hardest maze at iteration 2: 222.56000000000003\n",
            "Cost of hardest maze at iteration 3: 237.40000000000003\n",
            "Cost of hardest maze at iteration 4: 246.24\n",
            "Cost of hardest maze at iteration 5: 209.32000000000002\n",
            "Cost of hardest maze at iteration 6: 217.56\n",
            "Cost of hardest maze at iteration 7: 209.52\n",
            "Cost of hardest maze at iteration 8: 217.76\n",
            "Cost of hardest maze at iteration 9: 236.36\n",
            "Cost of final hardest maze is : 246.24\n",
            "Cost of Hardest Maze: 246.24\n"
          ],
          "name": "stdout"
        },
        {
          "output_type": "display_data",
          "data": {
            "image/png": "[encoded data removed]",
            "text/plain": [
              "<Figure size 1080x1080 with 1 Axes>"
            ]
          },
          "metadata": {
            "tags": []
          }
        },
        {
          "output_type": "execute_result",
          "data": {
            "text/plain": [
              "221"
            ]
          },
          "metadata": {
            "tags": []
          },
          "execution_count": 136
        }
      ]
    },
    {
      "cell_type": "code",
      "metadata": {
        "id": "BDV2D23ycpiC",
        "colab_type": "code",
        "colab": {
          "base_uri": "https://localhost:8080/",
          "height": 319
        },
        "outputId": "55d7d768-6d99-4b0b-874a-91087220c6fe"
      },
      "source": [
        "print(difference_list)\n",
        "plot_difference(difference_list_two_point)"
      ],
      "execution_count": 137,
      "outputs": [
        {
          "output_type": "stream",
          "text": [
            "[50.02167316861724, 41.00227790432801, 41.01985559566786, 61.76203451407808, 42.82407407407407, 38.071525577184225, 72.7029438001784, 57.036692986530426, 44.012797074954285, 62.72563176895305]\n"
          ],
          "name": "stdout"
        },
        {
          "output_type": "display_data",
          "data": {
            "image/png": "[encoded data removed]",
            "text/plain": [
              "<Figure size 432x288 with 1 Axes>"
            ]
          },
          "metadata": {
            "tags": []
          }
        }
      ]
    },
    {
      "cell_type": "markdown",
      "metadata": {
        "id": "1s12MrP6SGkI",
        "colab_type": "text"
      },
      "source": [
        "### Using uniform crossover method:"
      ]
    },
    {
      "cell_type": "code",
      "metadata": {
        "id": "w54RCy1nSJP3",
        "colab_type": "code",
        "colab": {
          "base_uri": "https://localhost:8080/",
          "height": 1000
        },
        "outputId": "e5d47adf-55d7-48c6-dac7-206322f59bac"
      },
      "source": [
        "hardest_maze_uniform, difference_list_uniform = multiple_ga(dim, num_of_iterations, num_generations, num_parents, num_children, \"uniform_crossover\")\n",
        "is_goal_reached, prev_list, count_of_nodes, max_fringe_size, visited = A_star(hardest_maze_uniform[0], start, goal, \"manhattan\")\n",
        "maze_temp = hardest_maze_uniform[0]*100\n",
        "display_path(maze_temp, prev_list, start, goal)"
      ],
      "execution_count": 147,
      "outputs": [
        {
          "output_type": "stream",
          "text": [
            "Cost of hardest maze at iteration 0: 210.60000000000002\n",
            "Cost of hardest maze at iteration 1: 220.32000000000002\n",
            "Cost of hardest maze at iteration 2: 213.36\n",
            "Cost of hardest maze at iteration 3: 257.20000000000005\n",
            "Cost of hardest maze at iteration 4: 201.52000000000004\n",
            "Cost of hardest maze at iteration 5: 220.08\n",
            "Cost of hardest maze at iteration 6: 214.0\n",
            "Cost of hardest maze at iteration 7: 186.96000000000004\n",
            "Cost of hardest maze at iteration 8: 254.48000000000002\n",
            "Cost of hardest maze at iteration 9: 220.48000000000002\n",
            "Cost of final hardest maze is : 257.20000000000005\n",
            "Cost of Hardest Maze: 257.20000000000005\n"
          ],
          "name": "stdout"
        },
        {
          "output_type": "display_data",
          "data": {
            "image/png": "[encoded data removed]",
            "text/plain": [
              "<Figure size 1080x1080 with 1 Axes>"
            ]
          },
          "metadata": {
            "tags": []
          }
        },
        {
          "output_type": "execute_result",
          "data": {
            "text/plain": [
              "227"
            ]
          },
          "metadata": {
            "tags": []
          },
          "execution_count": 147
        }
      ]
    },
    {
      "cell_type": "code",
      "metadata": {
        "id": "OTZy_IHw78LD",
        "colab_type": "code",
        "colab": {
          "base_uri": "https://localhost:8080/",
          "height": 319
        },
        "outputId": "1289e8be-bc4c-422c-c384-8673a47b714d"
      },
      "source": [
        "print(difference_list_uniform)\n",
        "plot_difference(difference_list_uniform)"
      ],
      "execution_count": 142,
      "outputs": [
        {
          "output_type": "stream",
          "text": [
            "[50.02167316861724, 41.00227790432801, 41.01985559566786, 61.76203451407808, 42.82407407407407, 38.071525577184225, 72.7029438001784, 57.036692986530426, 44.012797074954285, 62.72563176895305]\n"
          ],
          "name": "stdout"
        },
        {
          "output_type": "display_data",
          "data": {
            "image/png": "[encoded data removed]",
            "text/plain": [
              "<Figure size 432x288 with 1 Axes>"
            ]
          },
          "metadata": {
            "tags": []
          }
        }
      ]
    },
    {
      "cell_type": "markdown",
      "metadata": {
        "id": "BjYxD7l9bixT",
        "colab_type": "text"
      },
      "source": [
        "### Using single point crossover method:"
      ]
    },
    {
      "cell_type": "code",
      "metadata": {
        "id": "UBSnQ8ZEGDr5",
        "colab_type": "code",
        "colab": {
          "base_uri": "https://localhost:8080/",
          "height": 1000
        },
        "outputId": "7e4358a2-8850-4591-92bf-7c8058ab3c93"
      },
      "source": [
        "hardest_maze_single_point, difference_list_single_point = multiple_ga(dim, num_of_iterations, num_generations, num_parents, num_children, \"single_point_crossover\")\n",
        "is_goal_reached, prev_list, count_of_nodes, max_fringe_size, visited = A_star(hardest_maze_single_point[0], start, goal, \"manhattan\")\n",
        "maze_temp = hardest_maze_single_point[0]*100\n",
        "display_path(maze_temp, prev_list, start, goal)"
      ],
      "execution_count": 145,
      "outputs": [
        {
          "output_type": "stream",
          "text": [
            "Cost of hardest maze at iteration 0: 231.76000000000002\n",
            "Cost of hardest maze at iteration 1: 243.88000000000002\n",
            "Cost of hardest maze at iteration 2: 228.12\n",
            "Cost of hardest maze at iteration 3: 238.44000000000003\n",
            "Cost of hardest maze at iteration 4: 212.8\n",
            "Cost of hardest maze at iteration 5: 219.28000000000003\n",
            "Cost of hardest maze at iteration 6: 195.04000000000002\n",
            "Cost of hardest maze at iteration 7: 214.68\n",
            "Cost of hardest maze at iteration 8: 214.32000000000002\n",
            "Cost of hardest maze at iteration 9: 241.72000000000003\n",
            "Cost of final hardest maze is : 243.88000000000002\n",
            "Cost of Hardest Maze: 243.88000000000002\n"
          ],
          "name": "stdout"
        },
        {
          "output_type": "display_data",
          "data": {
            "image/png": "[encoded data removed]",
            "text/plain": [
              "<Figure size 1080x1080 with 1 Axes>"
            ]
          },
          "metadata": {
            "tags": []
          }
        },
        {
          "output_type": "execute_result",
          "data": {
            "text/plain": [
              "217"
            ]
          },
          "metadata": {
            "tags": []
          },
          "execution_count": 145
        }
      ]
    },
    {
      "cell_type": "code",
      "metadata": {
        "id": "p813xKqoGp-N",
        "colab_type": "code",
        "colab": {
          "base_uri": "https://localhost:8080/",
          "height": 319
        },
        "outputId": "0bf2920b-bda2-46e4-8287-1a4f865fcc02"
      },
      "source": [
        "print(difference_list_single_point)\n",
        "plot_difference(difference_list_single_point)"
      ],
      "execution_count": 146,
      "outputs": [
        {
          "output_type": "stream",
          "text": [
            "[46.535154274152774, 56.9773429454171, 47.09827185968531, 53.19969159599075, 36.97219361483007, 36.470002489419976, 25.314829092778208, 35.49608684675587, 35.98984771573603, 53.103623004813805]\n"
          ],
          "name": "stdout"
        },
        {
          "output_type": "display_data",
          "data": {
            "image/png": "[encoded data removed]",
            "text/plain": [
              "<Figure size 432x288 with 1 Axes>"
            ]
          },
          "metadata": {
            "tags": []
          }
        }
      ]
    }
  ]
}