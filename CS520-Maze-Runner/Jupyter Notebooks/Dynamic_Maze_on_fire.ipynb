{
  "nbformat": 4,
  "nbformat_minor": 0,
  "metadata": {
    "colab": {
      "name": "MazeRunner_Part4",
      "provenance": [],
      "collapsed_sections": []
    },
    "kernelspec": {
      "name": "python3",
      "display_name": "Python 3"
    }
  },
  "cells": [
    {
      "cell_type": "markdown",
      "metadata": {
        "id": "oj2f4JEb8J2i",
        "colab_type": "text"
      },
      "source": [
        "## Question-4\n",
        "\n",
        "### Maze on fire"
      ]
    },
    {
      "cell_type": "code",
      "metadata": {
        "id": "Cti1gZqi6-G7",
        "colab_type": "code",
        "colab": {}
      },
      "source": [
        "# Import libraries\n",
        "\n",
        "import numpy as np\n",
        "import random as rand\n",
        "import matplotlib.pyplot as plt\n",
        "import seaborn as sns\n",
        "import math\n",
        "import queue as Q\n",
        "from matplotlib.colors import ListedColormap\n",
        "import time\n",
        "import pprint as pp\n",
        "import pandas as pd\n",
        "from operator import itemgetter"
      ],
      "execution_count": 0,
      "outputs": []
    },
    {
      "cell_type": "code",
      "metadata": {
        "id": "McaR6s-YkNwl",
        "colab_type": "code",
        "colab": {}
      },
      "source": [
        "# Function to generate maze of given dimension. It takes 'p' as the probability of a particular cell being blocked.\n",
        "\n",
        "def generate_maze(dim = 150, p = 0.2):\n",
        "    \n",
        "    rows = dim\n",
        "    cols = dim\n",
        "    mat = np.ones((dim,dim))               # a maze with all free cells is generated\n",
        "    \n",
        "    for i in range(rows):\n",
        "        for j in range(cols):\n",
        "            if( rand.uniform(0,1) < p ):     # if random number is greater than p, an obstacle is added to the cell (i, j)\n",
        "                mat[i][j] = 0\n",
        "    \n",
        "    mat[0][0] = 1              # start needs to be unblocked\n",
        "    mat[dim-1][dim-1] = 1      # goal needs to be unblocked\n",
        "    \n",
        "    return mat "
      ],
      "execution_count": 0,
      "outputs": []
    },
    {
      "cell_type": "code",
      "metadata": {
        "id": "GU504i-3iKZt",
        "colab_type": "code",
        "colab": {}
      },
      "source": [
        "# Function to visualize a maze\n",
        "\n",
        "def visualise_maze(maze):\n",
        "  plt.figure(figsize = (15,15))\n",
        "  ax = sns.heatmap(maze, linewidths=.5, square = True, cbar=False, xticklabels=False, yticklabels=False)\n",
        "  plt.show()"
      ],
      "execution_count": 0,
      "outputs": []
    },
    {
      "cell_type": "code",
      "metadata": {
        "colab_type": "code",
        "id": "O5dr_9BoYh3v",
        "colab": {}
      },
      "source": [
        "# Function to visualize the obtained path\n",
        "\n",
        "def display_path(maze_temp, prev_list, start, goal):\n",
        "  \n",
        "    prev_node = goal\n",
        "    path = [prev_node]\n",
        "    maze_temp[prev_node] = 25        #----> green color to the goal\n",
        "    \n",
        "    if bool(prev_list):\n",
        "      while(prev_list[prev_node] != start):\n",
        "        current_node = prev_node\n",
        "        prev_node = prev_list[(current_node)]\n",
        "        path.append(prev_node)\n",
        "        maze_temp[prev_node] = 50    #----> crimson color to the path\n",
        "        \n",
        "      path.append(prev_list[prev_node])\n",
        "      path.reverse()\n",
        "      maze_temp[prev_list[prev_node]] = 25    #----> green color to the start\n",
        "      \n",
        "      path_length = str(len(path))\n",
        "      \n",
        "      plt.figure(figsize = (15,15))\n",
        "      sns.heatmap(maze_temp, cmap=ListedColormap(['black', 'green', 'crimson', 'papayawhip']), linewidths=.5,  square = True, cbar=False, xticklabels=False, yticklabels=False)\n",
        "      plt.show()\n",
        "      \n",
        "      return path_length"
      ],
      "execution_count": 0,
      "outputs": []
    },
    {
      "cell_type": "code",
      "metadata": {
        "colab_type": "code",
        "id": "xkKmY6uOYh30",
        "colab": {}
      },
      "source": [
        "# Function to obtain the length of a path\n",
        "\n",
        "def path_length(goal, prev_list, start):\n",
        "    \n",
        "    prev_node = goal\n",
        "    path = [prev_node]\n",
        "    path_len = 0\n",
        "    \n",
        "    if bool(prev_list):\n",
        "        while(prev_node in prev_list.keys() and prev_list[prev_node] != start):\n",
        "            current_node = prev_node\n",
        "            prev_node = prev_list[(current_node)]\n",
        "            path.append(prev_node)\n",
        "        \n",
        "        path.append(prev_list[prev_node])\n",
        "        path.reverse()\n",
        "\n",
        "        path_len = len(path)\n",
        "    \n",
        "    return path_len "
      ],
      "execution_count": 0,
      "outputs": []
    },
    {
      "cell_type": "code",
      "metadata": {
        "colab_type": "code",
        "id": "_yGSTkZwzovS",
        "colab": {}
      },
      "source": [
        "# Function to prioritize children based on the distance to the goal. This improves DFS search\n",
        "\n",
        "def prioritize_children(maze, goal, visited, x, y):\n",
        "  \n",
        "    children = []\n",
        "    node = []\n",
        "    h = []\n",
        "    \n",
        "    node.append((x+1, y))\n",
        "    h.append((goal - node[0][0]) + (goal - node[0][1]))\n",
        "    \n",
        "    node.append((x, y+1))\n",
        "    h.append((goal - node[1][0]) + (goal - node[1][1]))\n",
        "    \n",
        "    node.append((x-1, y))\n",
        "    h.append((goal - node[2][0]) + (goal - node[2][1]))\n",
        "    \n",
        "    node.append((x, y-1))\n",
        "    h.append((goal - node[3][0]) + (goal - node[3][1]))\n",
        "    \n",
        "    for i in range(4):\n",
        "        ind = h.index(min(h))\n",
        "        h.pop(ind)\n",
        "        current_child = node.pop(ind)\n",
        "        if(check_child_validity(maze,current_child,visited)):\n",
        "            children.append(current_child)\n",
        "    \n",
        "    children.reverse()\n",
        "    return children"
      ],
      "execution_count": 0,
      "outputs": []
    },
    {
      "cell_type": "code",
      "metadata": {
        "colab_type": "code",
        "id": "-03KvgLrzova",
        "colab": {}
      },
      "source": [
        "# Improved function of Depth-First Search\n",
        "\n",
        "def improved_DFS(maze, start, goal):\n",
        "  \n",
        "    fringe = [start]\n",
        "    visited = [start]\n",
        "    prev_list = {}    # To store pointers from children to their parents. It is useful for backtracking the path\n",
        "    \n",
        "    count_of_nodes = 0\n",
        "    max_fringe_size = 0\n",
        "    \n",
        "    while fringe:\n",
        "        (i, j) = fringe.pop()\n",
        "        count_of_nodes+=1\n",
        "        max_fringe_size = max( max_fringe_size, len(fringe) )\n",
        "        \n",
        "        if (i, j) == goal:    # to check if the goal state is found\n",
        "            return 1, prev_list, count_of_nodes, max_fringe_size\n",
        "           \n",
        "        # Generating and adding child nodes in fringe \n",
        "        children = prioritize_children(maze,goal[0]-1,visited,i,j)    #----> Improvement\n",
        "        if children:\n",
        "          for c in children:\n",
        "            prev_list[c] = (i,j)\n",
        "            fringe.append(c)\n",
        "            visited.append(c)\n",
        "     \n",
        "    return 0, prev_list, count_of_nodes, max_fringe_size  # No path found"
      ],
      "execution_count": 0,
      "outputs": []
    },
    {
      "cell_type": "code",
      "metadata": {
        "id": "nKEKK5SWIdMu",
        "colab_type": "code",
        "colab": {}
      },
      "source": [
        "# Function to assign heuristics to nodes\n",
        "\n",
        "def A_star_heuristic(maze, h, goal, heuristic):    \n",
        "    \n",
        "    dim = maze.shape[0]\n",
        "    \n",
        "    for i in range(dim):\n",
        "        for j in range(dim): \n",
        "            if(heuristic == \"manhattan\"):\n",
        "                h[i][j] = ( abs(goal[0]-i) + abs(goal[1]-j) )\n",
        "\n",
        "            if(heuristic == \"euclidean\"):\n",
        "                h[i][j] = math.sqrt( (goal[0] - i)**2 + (goal[1]-j)**2 ) \n",
        "    "
      ],
      "execution_count": 0,
      "outputs": []
    },
    {
      "cell_type": "code",
      "metadata": {
        "id": "GvAosG6UIp0Z",
        "colab_type": "code",
        "colab": {}
      },
      "source": [
        "# Function for A* search\n",
        "\n",
        "def A_star(maze, start, goal, heuristic):\n",
        "    \n",
        "    dim = maze.shape[0]\n",
        "    \n",
        "    h = np.zeros((dim, dim))\n",
        "    g = np.zeros((dim,dim))\n",
        "    f = np.zeros((dim,dim))\n",
        "    \n",
        "    g[start] = 0\n",
        "    A_star_heuristic( maze, h, goal, heuristic)\n",
        "    f = g + h\n",
        "    \n",
        "    visited = []\n",
        "    prev_list = {}  # To store pointers from children to their parents. It is useful for backtracking the path\n",
        "    \n",
        "    count_of_nodes = 0\n",
        "    max_fringe_size = 0\n",
        "    \n",
        "    fringe = Q.PriorityQueue()    # Priority queue to prioritize nodes based on cost and heuristics\n",
        "    fringe.put((f[start], start))\n",
        "    \n",
        "    while not (fringe.empty()):\n",
        "        \n",
        "        \n",
        "        vertex = fringe.get()[1]\n",
        "        count_of_nodes+=1\n",
        "        max_fringe_size = max( max_fringe_size, fringe.qsize() )\n",
        "        visited.append(vertex)\n",
        "        \n",
        "        if vertex == goal:    # to check if the goal state is found\n",
        "            return 1, prev_list, count_of_nodes, max_fringe_size, visited\n",
        "        \n",
        "        i = vertex[0]\n",
        "        j = vertex[1] \n",
        "\n",
        "        # Generating and adding child nodes in fringe \n",
        "        child = create_child_nodes(maze,visited,i,j)\n",
        "        if child:\n",
        "            for c in child:\n",
        "                prev_list[c] = vertex\n",
        "                visited.append(c)\n",
        "                g[c] = g[vertex] + 1\n",
        "                f[c] = g[c] + h[c]\n",
        "                fringe.put((f[c], c))\n",
        "    \n",
        "    return 0, prev_list, count_of_nodes, max_fringe_size, visited  # No path found"
      ],
      "execution_count": 0,
      "outputs": []
    },
    {
      "cell_type": "markdown",
      "metadata": {
        "id": "8LFStS-9yz_U",
        "colab_type": "text"
      },
      "source": [
        "### Fire generation"
      ]
    },
    {
      "cell_type": "code",
      "metadata": {
        "id": "arT6jmbbzpqr",
        "colab_type": "code",
        "colab": {}
      },
      "source": [
        "# Function to generate neighbors of a cell for fire.\n",
        "\n",
        "def generate_neighbours(cell):\n",
        "  \n",
        "  neighbours = []\n",
        "  \n",
        "  i = cell[0]\n",
        "  j = cell[1]\n",
        "  \n",
        "  if( i+1 < dim  ):\n",
        "    neighbours.append((i+1,j))\n",
        "  \n",
        "  if( i-1 >= 0):\n",
        "    neighbours.append((i-1,j))\n",
        "    \n",
        "  if( j+1 < dim ):\n",
        "    neighbours.append((i,j+1))\n",
        "    \n",
        "  if( j-1 >= 0 ):\n",
        "    neighbours.append((i,j-1))\n",
        "  \n",
        "  return neighbours"
      ],
      "execution_count": 0,
      "outputs": []
    },
    {
      "cell_type": "code",
      "metadata": {
        "id": "tNcsA3Zgy0Qc",
        "colab_type": "code",
        "colab": {}
      },
      "source": [
        "# Function to spread fire for baseline.\n",
        "\n",
        "def fire(maze, path_length, q):\n",
        "  \n",
        "  maze[fire_start] = -1 # Intial condition - fire on upper right corner\n",
        "  \n",
        "  fire_fringe = []\n",
        "  fire_fringe.append((0, dim-1))\n",
        "  not_on_fire_fringe = []\n",
        "  new_fire = []\n",
        "  n_steps = path_length\n",
        "  fire_cells = []\n",
        "  \n",
        "  for t in range(n_steps):\n",
        "    fire_cells.append([(0,dim-1)])\n",
        "  \n",
        "  for t in range(n_steps):\n",
        "\n",
        "    if (fire_fringe):\n",
        "      while fire_fringe:\n",
        "        neighbours = generate_neighbours(fire_fringe.pop())\n",
        "        while neighbours:\n",
        "          neighbor = neighbours.pop()\n",
        "          if maze[neighbor] != -1 and maze[neighbor] != 0 and neighbor not in not_on_fire_fringe:\n",
        "            not_on_fire_fringe.append(neighbor)\n",
        "    \n",
        "    not_on_fire_fringe_temp = not_on_fire_fringe.copy()\n",
        "    while not_on_fire_fringe_temp :\n",
        "        k = 0\n",
        "        cell = not_on_fire_fringe_temp.pop()\n",
        "        neighbours = generate_neighbours(cell)\n",
        "        \n",
        "        for j in neighbours:  \n",
        "          if (maze[j] == -1):\n",
        "            k = k+1\n",
        "        \n",
        "        probability = 1 - pow(1-q, k)\n",
        "        if(rand.uniform(0,1) < probability):  ##If the cell catches fire\n",
        "          new_fire.append(cell) \n",
        "          not_on_fire_fringe.remove(cell)\n",
        "    \n",
        "    while new_fire:\n",
        "      n = new_fire.pop()\n",
        "      fire_fringe.append(n)\n",
        "      maze[n] = -1\n",
        "      for t in range(t,n_steps):\n",
        "        fire_cells[t].append(n)\n",
        "      \n",
        "        \n",
        "  return fire_cells"
      ],
      "execution_count": 0,
      "outputs": []
    },
    {
      "cell_type": "markdown",
      "metadata": {
        "id": "snRs-HgkbyGW",
        "colab_type": "text"
      },
      "source": [
        "Basic approach in the situation where fire is spreading from top-right corner is to continue on the optimal path in the case there is no fire. This baseline approach is implemented in the function below."
      ]
    },
    {
      "cell_type": "code",
      "metadata": {
        "id": "C270tieWDZeF",
        "colab_type": "code",
        "colab": {}
      },
      "source": [
        "# Function to implement the baseline condition of running the shortest path on the maze.\n",
        "\n",
        "def baseline(dim,p,q=1):\n",
        "  \n",
        "  start = (0,0)\n",
        "  goal = (dim-1,dim-1)\n",
        "\n",
        "  \n",
        "  is_goal_reached = 0\n",
        "  is_fire_reached = 0\n",
        "  \n",
        "  # Generate a valid maze with paths from Top-Left to Bottom-Right (for runner) and Top-Right to Bottom-Left (for fire)\n",
        "  while not is_goal_reached or not is_fire_reached:\n",
        "    maze = generate_maze(dim, p)\n",
        "    is_goal_reached, prev_list_path, count_of_nodes_path, max_fringe_size_path, visited_path = A_star(maze, start, goal , \"manhattan\")\n",
        "    is_fire_reached, prev_list_fire, count_of_nodes_fire, max_fringe_size_fire, visited_fire = A_star(maze, fire_start, fire_goal, \"manhattan\")\n",
        "\n",
        "  path_len, path = path_length(prev_list_path,start,goal)\n",
        "\n",
        "  # Calculate total fire cells till length of path step \n",
        "  fire_cells = fire(np.copy(maze), path_len, q)\n",
        "\n",
        "  for i in range(path_len):\n",
        "\n",
        "    current_cell = path[i]\n",
        "    fire_state = fire_cells[i]\n",
        "    for fire_cell in fire_state:\n",
        "      maze[fire_cell] = -1\n",
        "    maze_temp = np.copy(maze)*100\n",
        "    if current_cell != start:\n",
        "      display_path(maze_temp, prev_list_path, start, current_cell)\n",
        "\n",
        "    # check whether goal is on fire\n",
        "    if goal in fire_state:   \n",
        "      return 0\n",
        "\n",
        "    # Current traversing cell is on fire\n",
        "    if current_cell in fire_state:\n",
        "      return 0\n",
        "\n",
        "  # Goal reached\n",
        "  if(path[i]==goal and goal not in fire_state):\n",
        "    return 1"
      ],
      "execution_count": 0,
      "outputs": []
    },
    {
      "cell_type": "code",
      "metadata": {
        "id": "n3zhP5j9ekFg",
        "colab_type": "code",
        "outputId": "c69d2cbd-0ace-469f-8137-3eb1eb65ff36",
        "colab": {
          "base_uri": "https://localhost:8080/",
          "height": 33
        }
      },
      "source": [
        "# Test case for baseline\n",
        "\n",
        "dim = 50\n",
        "p = 0.3\n",
        "q = 0.7\n",
        "start = (0,0)\n",
        "goal = (dim - 1, dim - 1)\n",
        "fire_start = (0,dim-1)\n",
        "fire_goal = (dim-1,0)\n",
        "baseline(dim,p,q)"
      ],
      "execution_count": 210,
      "outputs": [
        {
          "output_type": "execute_result",
          "data": {
            "text/plain": [
              "0"
            ]
          },
          "metadata": {
            "tags": []
          },
          "execution_count": 210
        }
      ]
    },
    {
      "cell_type": "markdown",
      "metadata": {
        "id": "O6Kd-JQbTSWQ",
        "colab_type": "text"
      },
      "source": [
        "Function to determine the average success rate of this strategy as a function of q (flammibility rate). "
      ]
    },
    {
      "cell_type": "code",
      "metadata": {
        "id": "rz3YwerdzbYu",
        "colab_type": "code",
        "colab": {}
      },
      "source": [
        "# Function to check the success rate of the baseline condition\n",
        "\n",
        "def success_rate(dim, p, n_trials):\n",
        "  \n",
        "    probability_solvable = []\n",
        "    \n",
        "    for q in range(0, 11, 1):\n",
        "\n",
        "        q = q/10.0\n",
        "        success = 0\n",
        "        \n",
        "        for i in range(n_trials):\n",
        "          \n",
        "          output = baseline(dim,p,q)\n",
        "          \n",
        "          if(output == 1):\n",
        "            success = success + 1    # Count the number of succesfully solved mazes\n",
        "          else :\n",
        "            continue\n",
        "            \n",
        "        probability_solvable.append(success/n_trials)\n",
        "        print(\"Success for q = \" + str(q) + \" is \" + str(success))\n",
        "\n",
        "    print(probability_solvable)\n",
        "    x = np.arange(0,1.1,0.1)\n",
        "   \n",
        "    plt.clf()\n",
        "    plt.cla()\n",
        "    plt.close()\n",
        "    \n",
        "    plt.bar(x, probability_solvable, width = 0.05 )\n",
        "    \n",
        "    plt.xlabel(\"q\")\n",
        "    plt.ylabel(\"Probability of success\")\n",
        "    plt.title(\"Density vs solvability for dim = \" + str(dim) + \", #trials = \"+ str(n_trials))\n",
        "    plt.xticks(x)\n",
        "    plt.show()"
      ],
      "execution_count": 0,
      "outputs": []
    },
    {
      "cell_type": "code",
      "metadata": {
        "id": "wMTy6ffdlGY3",
        "colab_type": "code",
        "outputId": "6ca413ca-4662-418f-8c1a-c7eda78e36a2",
        "colab": {
          "base_uri": "https://localhost:8080/",
          "height": 496
        }
      },
      "source": [
        "dim = 50\n",
        "p = 0.3\n",
        "start = (0,0)\n",
        "goal = (dim - 1, dim - 1)\n",
        "fire_start = (0,dim-1)\n",
        "fire_goal = (dim-1,0)\n",
        "success_rate(dim, p, 50)"
      ],
      "execution_count": 264,
      "outputs": [
        {
          "output_type": "stream",
          "text": [
            "Success for q = 0.0 is 50\n",
            "Success for q = 0.1 is 50\n",
            "Success for q = 0.2 is 50\n",
            "Success for q = 0.3 is 50\n",
            "Success for q = 0.4 is 47\n",
            "Success for q = 0.5 is 39\n",
            "Success for q = 0.6 is 17\n",
            "Success for q = 0.7 is 7\n",
            "Success for q = 0.8 is 5\n",
            "Success for q = 0.9 is 0\n",
            "Success for q = 1.0 is 0\n",
            "[1.0, 1.0, 1.0, 1.0, 0.94, 0.78, 0.34, 0.14, 0.1, 0.0, 0.0]\n"
          ],
          "name": "stdout"
        },
        {
          "output_type": "display_data",
          "data": {
            "image/png": "[encoded data removed]",
            "text/plain": [
              "<Figure size 432x288 with 1 Axes>"
            ]
          },
          "metadata": {
            "tags": []
          }
        }
      ]
    },
    {
      "cell_type": "markdown",
      "metadata": {
        "id": "75qB_KT6vP4z",
        "colab_type": "text"
      },
      "source": [
        "##Fire Runner"
      ]
    },
    {
      "cell_type": "code",
      "metadata": {
        "id": "Uu72aB9B4fEI",
        "colab_type": "code",
        "colab": {}
      },
      "source": [
        "# Function to check whether a given child is on fire. Returns boolean\n",
        "\n",
        "def check_child_safety(maze,vertex,visited):\n",
        "    \n",
        "    dim = maze.shape[0] \n",
        "    \n",
        "    # If dimensions are in the range of the matrix dimensions (if cell is going out of bounds)\n",
        "    if vertex[0]==-1 or vertex[1]==-1 or vertex[0]==dim or vertex[1]==dim:\n",
        "        return False\n",
        "      \n",
        "    # If cell is on fire\n",
        "    elif maze[vertex[0],vertex[1]]==-1:\n",
        "        return False\n",
        "    \n",
        "    # Valid\n",
        "    else:\n",
        "        return True"
      ],
      "execution_count": 0,
      "outputs": []
    },
    {
      "cell_type": "code",
      "metadata": {
        "id": "-s43OQ8FxKge",
        "colab_type": "code",
        "colab": {}
      },
      "source": [
        "# Function to prioritize children based on the number of neighbors on fire. This helps the fire runner.\n",
        "\n",
        "def safe_children(maze, visited, x, y):\n",
        "  \n",
        "    children = []\n",
        "    nodes = []\n",
        "    n = []\n",
        "    \n",
        "    node = ((x+1, y))\n",
        "    neighbors = [(x+1,y+1), (x+2,y), (x+1,y-1)]\n",
        "    if(check_child_validity(maze, node, visited)):\n",
        "      n.append(0)\n",
        "      for i in neighbors:\n",
        "        if check_child_safety(maze, i, visited):\n",
        "          n[len(n)-1] += 1\n",
        "        n[len(n)-1] = (dim - 1 - node[0]) + (dim - 1 - node[1]) - n[len(n)-1]    # Priority consider Manhattan distance to the goal and the number of neighbors on fire\n",
        "      nodes.append(node)\n",
        "    \n",
        "    node = ((x, y+1))\n",
        "    neighbors = [(x+1,y+1), (x,y+2), (x-1,y+1)]\n",
        "    if(check_child_validity(maze, node, visited)):\n",
        "      n.append(0)\n",
        "      for i in neighbors:\n",
        "        if check_child_safety(maze, i, visited):\n",
        "          n[len(n)-1] += 1\n",
        "      n[len(n)-1] = (dim - 1 - node[0]) + (dim - 1 - node[1]) - n[len(n)-1]\n",
        "      nodes.append(node)\n",
        "    \n",
        "    node = ((x-1, y))\n",
        "    neighbors = [(x-1,y+1), (x-2,y), (x-1,y-1)]\n",
        "    if(check_child_validity(maze, node, visited)):\n",
        "      n.append(0)\n",
        "      for i in neighbors:\n",
        "        if check_child_safety(maze, i, visited):\n",
        "          n[len(n)-1] += 1\n",
        "      n[len(n)-1] = (dim - 1 - node[0]) + (dim - 1 - node[1]) - n[len(n)-1]\n",
        "      nodes.append(node)\n",
        "    \n",
        "    node = ((x, y-1))\n",
        "    neighbors = [(x+1,y-1), (x,y-2), (x-1,y-1)]\n",
        "    if(check_child_validity(maze, node, visited)):\n",
        "      n.append(0)\n",
        "      for i in neighbors:\n",
        "        if check_child_safety(maze, i, visited):\n",
        "          n[len(n)-1] += 1\n",
        "      n[len(n)-1] = (dim - 1 - node[0]) + (dim - 1 - node[1]) - n[len(n)-1]\n",
        "      nodes.append(node)\n",
        "          \n",
        "    for i in range(len(n)):\n",
        "        ind = n.index(min(n))\n",
        "        n.pop(ind)\n",
        "        current_child = nodes.pop(ind)\n",
        "        children.append(current_child)\n",
        "    \n",
        "    \n",
        "    children.reverse()\n",
        "    return children"
      ],
      "execution_count": 0,
      "outputs": []
    },
    {
      "cell_type": "code",
      "metadata": {
        "id": "6TZJzFswroNo",
        "colab_type": "code",
        "colab": {}
      },
      "source": [
        "# Function to prioritize children based on the distance to the goal and distance from fire. This improves the strategy of fire runner.\n",
        "\n",
        "def save_children(maze, visited, x, y, fire_cells):\n",
        "  \n",
        "    children = []\n",
        "    nodes = []\n",
        "    h = []\n",
        "    \n",
        "    dist = []\n",
        "    node = ((x+1, y))\n",
        "    if(check_child_validity(maze, node, visited)):\n",
        "      for i in fire_cells:\n",
        "        dist.append((abs(i[0]-node[0]) + abs(i[1]-node[1])))    # Manhattan distance to the goal\n",
        "      min_dist = 0\n",
        "      if dist:\n",
        "        min_dist = min(dist)\n",
        "      h.append( (dim - node[0]) + (dim - node[1]) - min_dist)    # Factoring in the minimum distance from the fire\n",
        "      nodes.append(node)\n",
        "    \n",
        "    dist = []\n",
        "    node = ((x, y+1))\n",
        "    if(check_child_validity(maze, node, visited)):\n",
        "      for i in fire_cells:\n",
        "        dist.append(abs(i[0]-node[0]) + abs(i[1]-node[1]))\n",
        "      min_dist = 0\n",
        "      if dist:\n",
        "        min_dist = min(dist)\n",
        "      h.append( (dim - node[0]) + (dim - node[1]) - min_dist)\n",
        "      nodes.append(node)\n",
        "    \n",
        "    dist = []\n",
        "    node = ((x-1, y))\n",
        "    if(check_child_validity(maze, node, visited)):\n",
        "      for i in fire_cells:\n",
        "        dist.append(abs(i[0]-node[0]) + abs(i[1]-node[1]))\n",
        "      min_dist = 0\n",
        "      if dist:\n",
        "        min_dist = min(dist)\n",
        "      h.append( (dim - node[0]) + (dim - node[1]) - min_dist)\n",
        "      nodes.append(node)\n",
        "    \n",
        "    dist = []\n",
        "    node = ((x, y-1))\n",
        "    if(check_child_validity(maze, node, visited)):\n",
        "      for i in fire_cells:\n",
        "        dist.append(abs(i[0]-node[0]) + abs(i[1]-node[1]))\n",
        "      min_dist = 0\n",
        "\n",
        "    \n",
        "    for i in range(len(h)):\n",
        "        ind = h.index(min(h))\n",
        "        h.pop(ind)\n",
        "        current_child = nodes.pop(ind)\n",
        "        children.append(current_child)\n",
        "    \n",
        "    \n",
        "    children.reverse()\n",
        "    return children"
      ],
      "execution_count": 0,
      "outputs": []
    },
    {
      "cell_type": "code",
      "metadata": {
        "id": "4UIWv9AVwvwI",
        "colab_type": "code",
        "colab": {}
      },
      "source": [
        "# Function to implement search to stay away from all fire cells.\n",
        "\n",
        "def fire_cell_search(maze, start, goal, fire_start, fire_goal, q):\n",
        "\n",
        "  \n",
        "  fringe = [start]\n",
        "  visited = [start]\n",
        "  prev_list = {}    # To store pointers from children to their parents. It is useful for backtracking the path\n",
        "\n",
        "  count_of_nodes = 0\n",
        "  max_fringe_size = 0\n",
        "  \n",
        "  maze[0][dim-1] = -1 # Intial condition - fire on upper right corner\n",
        "  \n",
        "  fire_fringe = []\n",
        "  fire_fringe.append((0, dim-1))\n",
        "  not_on_fire_fringe = []\n",
        "  new_fire = []\n",
        "  fire_cells = [(0, dim-1)]\n",
        "  \n",
        "  while fringe:\n",
        "      maze_temp = maze*100\n",
        "      (i, j) = fringe.pop()\n",
        "      display_path(maze_temp, prev_list, start, (i,j))\n",
        "      \n",
        "      # Termination Conditions\n",
        "      \n",
        "      if goal in fire_cells:    # Goal is on fire\n",
        "        return 3, (i,j), prev_list, count_of_nodes, max_fringe_size, fire_cells\n",
        "      \n",
        "      if (i,j) in fire_cells:    # Runner location is on fire\n",
        "        return 2, (i,j), prev_list, count_of_nodes, max_fringe_size, fire_cells\n",
        "      \n",
        "      count_of_nodes+=1\n",
        "      max_fringe_size = max( max_fringe_size, len(fringe) )\n",
        "\n",
        "      if (i, j) == goal:    # to check if the goal state is found\n",
        "          return 1, goal, prev_list, count_of_nodes, max_fringe_size, fire_cells\n",
        "\n",
        "      # Generating and adding child nodes in fringe \n",
        "      children = save_children(maze,visited,i,j,fire_fringe)    #----> Improved DFS\n",
        "      if children:\n",
        "        for c in children:\n",
        "          prev_list[c] = (i,j)\n",
        "          fringe.append(c)\n",
        "          visited.append(c)\n",
        "      \n",
        "      # Adding neighbors to the fringe\n",
        "      if (fire_fringe):\n",
        "        while fire_fringe:\n",
        "          neighbours = generate_neighbours(fire_fringe.pop())\n",
        "          \n",
        "          while neighbours:\n",
        "            neighbor = neighbours.pop()\n",
        "            if maze[neighbor] != -100 and maze[neighbor] != 0 and neighbor not in not_on_fire_fringe:\n",
        "              not_on_fire_fringe.append(neighbor)\n",
        "\n",
        "      not_on_fire_fringe_temp = not_on_fire_fringe.copy()\n",
        "      while not_on_fire_fringe_temp :\n",
        "          k = 0\n",
        "          cell = not_on_fire_fringe_temp.pop()\n",
        "          neighbours = generate_neighbours(cell)\n",
        "\n",
        "          for v in neighbours:  \n",
        "            if (maze[v] == -1):\n",
        "              k = k+1\n",
        "\n",
        "          probability = 1 - pow(1-q, k)\n",
        "          if( rand.uniform(0,1) < probability):  ##If the cell catches fire\n",
        "            new_fire.append(cell) \n",
        "            not_on_fire_fringe.remove(cell)\n",
        "      \n",
        "      while new_fire:\n",
        "        n = new_fire.pop()\n",
        "        fire_fringe.append(n)\n",
        "        maze[n] = -1\n",
        "        fire_cells.append(n)\n",
        "\n",
        "          \n",
        "  return 0, (i,j), prev_list, count_of_nodes, max_fringe_size, fire_cells"
      ],
      "execution_count": 0,
      "outputs": []
    },
    {
      "cell_type": "code",
      "metadata": {
        "colab_type": "code",
        "outputId": "9e47b470-07d4-4f44-8f44-6666abf7dd64",
        "id": "S_0aHySD8WSa",
        "colab": {
          "base_uri": "https://localhost:8080/",
          "height": 870
        }
      },
      "source": [
        "start_time = time.time()\n",
        "\n",
        "dim = 100\n",
        "p = 0.3\n",
        "start = (0,0)\n",
        "goal = (dim - 1, dim - 1)\n",
        "fire_start = (0,dim-1)\n",
        "fire_goal = (dim-1,0)\n",
        "\n",
        "is_goal_reached = 0\n",
        "is_fire_reached = 0\n",
        "\n",
        "while not is_goal_reached or not is_fire_reached:\n",
        "  maze = generate_maze(dim, p)\n",
        "  is_goal_reached, prev_list_path, count_of_nodes_path, max_fringe_size_path, visited_path = A_star(maze, start, goal , \"manhattan\")\n",
        "  is_fire_reached, prev_list_fire, count_of_nodes_fire, max_fringe_size_fire, visited_fire = A_star(maze, fire_start, fire_goal, \"manhattan\")\n",
        "\n",
        "is_reached, runner_location, prev_list, count_of_nodes, max_fringe_size, fire_cells = fire_cell_search(maze, start, goal, fire_start, fire_goal, 0.3)\n",
        "\n",
        "maze_temp = maze*100\n",
        "display_path(maze_temp, prev_list_path, start, goal)\n",
        "\n",
        "print(\"Time taken: \" + str(time.time()-start_time))"
      ],
      "execution_count": 257,
      "outputs": [
        {
          "output_type": "display_data",
          "data": {
            "image/png": "[encoded data removed]",
            "text/plain": [
              "<Figure size 1080x1080 with 1 Axes>"
            ]
          },
          "metadata": {
            "tags": []
          }
        },
        {
          "output_type": "stream",
          "text": [
            "Time taken: 9.857760667800903\n"
          ],
          "name": "stdout"
        }
      ]
    },
    {
      "cell_type": "code",
      "metadata": {
        "id": "sbxObQ8Kzfo6",
        "colab_type": "code",
        "colab": {}
      },
      "source": [
        "# Function to implement search to stay away from new cells on fire. \n",
        "\n",
        "def fire_fringe_search(maze, start, goal, fire_start, fire_goal, q):\n",
        "\n",
        "  \n",
        "  fringe = [start]\n",
        "  visited = [start]\n",
        "  prev_list = {}    # To store pointers from children to their parents. It is useful for backtracking the path\n",
        "\n",
        "  count_of_nodes = 0\n",
        "  max_fringe_size = 0\n",
        "  \n",
        "  maze[0][dim-1] = -1 # Intial condition - fire on upper right corner\n",
        "  \n",
        "  fire_fringe = []\n",
        "  fire_fringe.append((0, dim-1))\n",
        "  not_on_fire_fringe = []\n",
        "  new_fire = []\n",
        "  fire_cells = [(0, dim-1)]\n",
        "  \n",
        "  while fringe:\n",
        "#       maze_temp = maze*100\n",
        "      (i, j) = fringe.pop()\n",
        "#       display_path(maze_temp, prev_list, start, (i,j))\n",
        "      if (fire_fringe):\n",
        "        while fire_fringe:\n",
        "          neighbours = generate_neighbours(fire_fringe.pop())\n",
        "          \n",
        "          while neighbours:\n",
        "            neighbor = neighbours.pop()\n",
        "            if maze[neighbor] != -1 and maze[neighbor] != 0 and neighbor not in not_on_fire_fringe:\n",
        "              not_on_fire_fringe.append(neighbor)\n",
        "\n",
        "      not_on_fire_fringe_temp = not_on_fire_fringe.copy()\n",
        "      while not_on_fire_fringe_temp :\n",
        "          k = 0\n",
        "          cell = not_on_fire_fringe_temp.pop()\n",
        "          neighbours = generate_neighbours(cell)\n",
        "\n",
        "          for v in neighbours:  \n",
        "            if (maze[v] == -1):\n",
        "              k = k+1\n",
        "\n",
        "          probability = 1 - pow(1-q, k)\n",
        "          if( rand.uniform(0,1) < probability):  ##If the cell catches fire\n",
        "            new_fire.append(cell)\n",
        "            not_on_fire_fringe.remove(cell)\n",
        "      \n",
        "      while new_fire:\n",
        "        n = new_fire.pop()\n",
        "        fire_fringe.append(n)\n",
        "        maze[n] = -1\n",
        "        fire_cells.append(n)\n",
        "\n",
        "      if goal in fire_cells:\n",
        "        return 3, (i,j), prev_list, count_of_nodes, max_fringe_size, fire_cells\n",
        "      \n",
        "      if (i,j) in fire_cells:\n",
        "        return 2, (i,j), prev_list, count_of_nodes, max_fringe_size, fire_cells\n",
        "      \n",
        "      count_of_nodes+=1\n",
        "      max_fringe_size = max( max_fringe_size, len(fringe) )\n",
        "\n",
        "      if (i, j) == goal:    # to check if the goal state is found\n",
        "          return 1, goal, prev_list, count_of_nodes, max_fringe_size, fire_cells\n",
        "\n",
        "      # Generating and adding child nodes in fringe \n",
        "      children = save_children(maze,visited,i,j,fire_fringe)    #----> Improvement\n",
        "      if children:\n",
        "        for c in children:\n",
        "          prev_list[c] = (i,j)\n",
        "          fringe.append(c)\n",
        "          visited.append(c)\n",
        "          \n",
        "  return 0, (i,j), prev_list, count_of_nodes, max_fringe_size, fire_cells"
      ],
      "execution_count": 0,
      "outputs": []
    },
    {
      "cell_type": "code",
      "metadata": {
        "id": "fRuzPpR6DZBr",
        "colab_type": "code",
        "outputId": "c7d36870-6255-4b7d-f9db-dff855eb3354",
        "colab": {
          "base_uri": "https://localhost:8080/",
          "height": 870
        }
      },
      "source": [
        "start_time = time.time()\n",
        "\n",
        "dim = 100\n",
        "p = 0.3\n",
        "start = (0,0)\n",
        "goal = (dim - 1, dim - 1)\n",
        "fire_start = (0,dim-1)\n",
        "fire_goal = (dim-1,0)\n",
        "\n",
        "is_goal_reached = 0\n",
        "is_fire_reached = 0\n",
        "\n",
        "while not is_goal_reached or not is_fire_reached:\n",
        "  maze = generate_maze(dim, p)\n",
        "  is_goal_reached, prev_list_path, count_of_nodes_path, max_fringe_size_path, visited_path = A_star(maze, start, goal , \"manhattan\")\n",
        "  is_fire_reached, prev_list_fire, count_of_nodes_fire, max_fringe_size_fire, visited_fire = A_star(maze, fire_start, fire_goal, \"manhattan\")\n",
        "\n",
        "is_reached, runner_location, prev_list, count_of_nodes, max_fringe_size, fire_cells = fire_fringe_search(maze, start, goal, fire_start, fire_goal, 0.2)\n",
        "\n",
        "maze_temp = maze*100\n",
        "display_path(maze_temp, prev_list_path, start, goal)\n",
        "\n",
        "print(\"Time taken: \" + str(time.time()-start_time))"
      ],
      "execution_count": 260,
      "outputs": [
        {
          "output_type": "display_data",
          "data": {
            "image/png": "[encoded data removed]",
            "text/plain": [
              "<Figure size 1080x1080 with 1 Axes>"
            ]
          },
          "metadata": {
            "tags": []
          }
        },
        {
          "output_type": "stream",
          "text": [
            "Time taken: 2.6146209239959717\n"
          ],
          "name": "stdout"
        }
      ]
    },
    {
      "cell_type": "code",
      "metadata": {
        "id": "z8urdI7WJYuY",
        "colab_type": "code",
        "colab": {}
      },
      "source": [
        "# Function to implement search to stay from children with more neighbors on fire.\n",
        "\n",
        "def fire_neighbor_search(maze, start, goal, fire_start, fire_goal, q):\n",
        "\n",
        "  \n",
        "  fringe = [start]\n",
        "  visited = [start]\n",
        "  prev_list = {}    # To store pointers from children to their parents. It is useful for backtracking the path\n",
        "\n",
        "  count_of_nodes = 0\n",
        "  max_fringe_size = 0\n",
        "  \n",
        "  maze[fire_start] = -1 # Intial condition - fire on upper right corner\n",
        "  \n",
        "  fire_fringe = []\n",
        "  fire_fringe.append((0, dim-1))\n",
        "  not_on_fire_fringe = []\n",
        "  new_fire = []\n",
        "  fire_cells = [(0, dim-1)]\n",
        "  \n",
        "  while fringe:\n",
        "#       maze_temp = maze*100\n",
        "      (i, j) = fringe.pop()      \n",
        "#       display_path(maze_temp, prev_list, start, (i,j))\n",
        "      \n",
        "      if goal in fire_cells:\n",
        "        return 3, (i,j), prev_list, count_of_nodes, max_fringe_size, fire_cells\n",
        "      \n",
        "      if (i,j) in fire_cells:\n",
        "        return 2, (i,j), prev_list, count_of_nodes, max_fringe_size, fire_cells\n",
        "      \n",
        "      count_of_nodes+=1\n",
        "      max_fringe_size = max( max_fringe_size, len(fringe) )\n",
        "\n",
        "      if (i, j) == goal:    # to check if the goal state is found\n",
        "          return 1, goal, prev_list, count_of_nodes, max_fringe_size, fire_cells\n",
        "      \n",
        "      # Generating and adding child nodes in fringe \n",
        "      children = safe_children(maze,visited,i,j)    #----> Improvement\n",
        "      if children:\n",
        "        for c in children:\n",
        "          prev_list[c] = (i,j)\n",
        "          fringe.append(c)\n",
        "          visited.append(c)\n",
        "\n",
        "      if (fire_fringe):\n",
        "        while fire_fringe:\n",
        "          neighbours = generate_neighbours(fire_fringe.pop())\n",
        "          while neighbours:\n",
        "            neighbor = neighbours.pop()\n",
        "            if maze[neighbor] != -1 and maze[neighbor] != 0 and neighbor not in not_on_fire_fringe:\n",
        "              not_on_fire_fringe.append(neighbor)\n",
        "\n",
        "      not_on_fire_fringe_temp = not_on_fire_fringe.copy()\n",
        "      while not_on_fire_fringe_temp :\n",
        "          k = 0\n",
        "          cell = not_on_fire_fringe_temp.pop()\n",
        "          neighbours = generate_neighbours(cell)\n",
        "\n",
        "          for v in neighbours:  \n",
        "            if (maze[v] == -1):\n",
        "              k = k+1\n",
        "\n",
        "          probability = 1 - pow(1-q, k)\n",
        "          \n",
        "          if( rand.uniform(0,1) < probability):  ##If the cell catches fire\n",
        "            new_fire.append(cell) \n",
        "            not_on_fire_fringe.remove(cell)\n",
        "          \n",
        "      while new_fire:\n",
        "        n = new_fire.pop()\n",
        "        fire_fringe.append(n)\n",
        "        maze[n] = -1\n",
        "        fire_cells.append(n)\n",
        "          \n",
        "  return 0, (i,j), prev_list, count_of_nodes, max_fringe_size, fire_cells"
      ],
      "execution_count": 0,
      "outputs": []
    },
    {
      "cell_type": "code",
      "metadata": {
        "id": "ah8RE3Gr0kFV",
        "colab_type": "code",
        "colab": {
          "base_uri": "https://localhost:8080/",
          "height": 870
        },
        "outputId": "41abdfe4-df42-4b5f-8358-a175f2828790"
      },
      "source": [
        "start_time = time.time()\n",
        "\n",
        "dim = 100\n",
        "p = 0.3\n",
        "start = (0,0)\n",
        "goal = (dim - 1, dim - 1)\n",
        "fire_start = (0,dim-1)\n",
        "fire_goal = (dim-1,0)\n",
        "\n",
        "is_goal_reached = 0\n",
        "is_fire_reached = 0\n",
        "\n",
        "while not is_goal_reached or not is_fire_reached:\n",
        "  maze = generate_maze(dim, p)\n",
        "  is_goal_reached, prev_list_path, count_of_nodes_path, max_fringe_size_path, visited_path = A_star(maze, start, goal , \"manhattan\")\n",
        "  is_fire_reached, prev_list_fire, count_of_nodes_fire, max_fringe_size_fire, visited_fire = A_star(maze, fire_start, fire_goal, \"manhattan\")\n",
        "\n",
        "is_reached, runner_location, prev_list, count_of_nodes, max_fringe_size, fire_cells = fire_neighbor_search(maze, start, goal, fire_start, fire_goal, 0.1)\n",
        "maze_temp = maze*100\n",
        "display_path(maze_temp, prev_list_path, start, goal)\n",
        "\n",
        "print(\"Time taken: \" + str(time.time()-start_time))"
      ],
      "execution_count": 258,
      "outputs": [
        {
          "output_type": "display_data",
          "data": {
            "image/png": "[encoded data removed]",
            "text/plain": [
              "<Figure size 1080x1080 with 1 Axes>"
            ]
          },
          "metadata": {
            "tags": []
          }
        },
        {
          "output_type": "stream",
          "text": [
            "Time taken: 34.060322284698486\n"
          ],
          "name": "stdout"
        }
      ]
    },
    {
      "cell_type": "markdown",
      "metadata": {
        "id": "aMd8KkN--CnB",
        "colab_type": "text"
      },
      "source": [
        "Success rate of new algorithm"
      ]
    },
    {
      "cell_type": "code",
      "metadata": {
        "colab_type": "code",
        "id": "Urh4p94F-AMZ",
        "colab": {}
      },
      "source": [
        "# Function to check the success rate of the new algorithm\n",
        "\n",
        "def success_rate_new(dim, p, n_trials):\n",
        "  \n",
        "    probability_solvable = []\n",
        "    \n",
        "    for q in range(0, 11, 1):\n",
        "\n",
        "        q = q/10.0\n",
        "        success = 0\n",
        "        \n",
        "        for i in range(n_trials):\n",
        "          \n",
        "          is_goal_reached = 0\n",
        "          is_fire_reached = 0\n",
        "\n",
        "          while not is_goal_reached or not is_fire_reached:\n",
        "            maze = generate_maze(dim, p)\n",
        "            is_goal_reached, prev_list_path, count_of_nodes_path, max_fringe_size_path, visited_path = A_star(maze, start, goal , \"manhattan\")\n",
        "            is_fire_reached, prev_list_fire, count_of_nodes_fire, max_fringe_size_fire, visited_fire = A_star(maze, fire_start, fire_goal, \"manhattan\")\n",
        "\n",
        "          is_reached, runner_location, prev_list, count_of_nodes, max_fringe_size, fire_cells = fire_fringe_search(maze, start, goal, fire_start, fire_goal, q)\n",
        "          \n",
        "          if(is_reached == 1):\n",
        "            success = success + 1    # Count the number of succesfully solved mazes\n",
        "          else :\n",
        "            continue\n",
        "            \n",
        "        probability_solvable.append(success/n_trials)\n",
        "        print(\"Success for q = \" + str(q) + \" is \" + str(success))\n",
        "\n",
        "    print(probability_solvable)\n",
        "    x = np.arange(0,1.1,0.1)\n",
        "   \n",
        "    plt.clf()\n",
        "    plt.cla()\n",
        "    plt.close()\n",
        "    \n",
        "    plt.bar(x, probability_solvable, width = 0.05 )\n",
        "    \n",
        "    plt.xlabel(\"q\")\n",
        "    plt.ylabel(\"Probability of success\")\n",
        "    plt.title(\"Density vs solvability for dim = \" + str(dim) + \", #trials = \"+ str(n_trials))\n",
        "    plt.xticks(x)\n",
        "    plt.show()"
      ],
      "execution_count": 0,
      "outputs": []
    },
    {
      "cell_type": "code",
      "metadata": {
        "colab_type": "code",
        "outputId": "ccee6126-1ccb-494c-a16a-93e9ff559a17",
        "id": "Xch3PcCB-AMp",
        "colab": {
          "base_uri": "https://localhost:8080/",
          "height": 496
        }
      },
      "source": [
        "dim = 50\n",
        "p = 0.3\n",
        "start = (0,0)\n",
        "goal = (dim - 1, dim - 1)\n",
        "fire_start = (0,dim-1)\n",
        "fire_goal = (dim-1,0)\n",
        "success_rate_new(dim, p, 50)"
      ],
      "execution_count": 266,
      "outputs": [
        {
          "output_type": "stream",
          "text": [
            "Success for q = 0.0 is 42\n",
            "Success for q = 0.1 is 36\n",
            "Success for q = 0.2 is 34\n",
            "Success for q = 0.3 is 33\n",
            "Success for q = 0.4 is 13\n",
            "Success for q = 0.5 is 4\n",
            "Success for q = 0.6 is 0\n",
            "Success for q = 0.7 is 0\n",
            "Success for q = 0.8 is 0\n",
            "Success for q = 0.9 is 0\n",
            "Success for q = 1.0 is 0\n",
            "[0.84, 0.72, 0.68, 0.66, 0.26, 0.08, 0.0, 0.0, 0.0, 0.0, 0.0]\n"
          ],
          "name": "stdout"
        },
        {
          "output_type": "display_data",
          "data": {
            "image/png": "[encoded data removed]",
            "text/plain": [
              "<Figure size 432x288 with 1 Axes>"
            ]
          },
          "metadata": {
            "tags": []
          }
        }
      ]
    }
  ]
}